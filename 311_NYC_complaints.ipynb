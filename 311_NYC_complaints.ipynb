{
 "cells": [
  {
   "cell_type": "code",
   "execution_count": 1,
   "metadata": {},
   "outputs": [],
   "source": [
    "import pandas as pd\n",
    "\n",
    "pd.set_option('max_columns', None)\n",
    "path = 'https://cocl.us/311_NYC_Dataset'\n",
    "df = pd.read_csv(path, header=0, low_memory=False)"
   ]
  },
  {
   "cell_type": "code",
   "execution_count": 2,
   "metadata": {},
   "outputs": [
    {
     "output_type": "execute_result",
     "data": {
      "text/plain": "   Unnamed: 0  Unique Key            Created Date Closed Date  \\\n0           0    45531130  02/02/2020 06:09:17 AM         NaN   \n1           1    45529784  02/02/2020 02:15:24 PM         NaN   \n2           2    45527528  02/02/2020 02:27:41 AM         NaN   \n3           3    45530329  02/02/2020 12:13:18 PM         NaN   \n4           4    45528814  02/02/2020 01:59:44 PM         NaN   \n\n         Complaint Type         Location Type  Incident Zip  \\\n0        HEAT/HOT WATER  RESIDENTIAL BUILDING       10019.0   \n1  UNSANITARY CONDITION  RESIDENTIAL BUILDING       11204.0   \n2        HEAT/HOT WATER  RESIDENTIAL BUILDING       11372.0   \n3        HEAT/HOT WATER  RESIDENTIAL BUILDING       10458.0   \n4             APPLIANCE  RESIDENTIAL BUILDING       11209.0   \n\n          Incident Address         Street Name Address Type             City  \\\n0     426 WEST   52 STREET    WEST   52 STREET      ADDRESS         NEW YORK   \n1           1751 67 STREET           67 STREET      ADDRESS         BROOKLYN   \n2          87-15 37 AVENUE           37 AVENUE      ADDRESS  Jackson Heights   \n3  2405 SOUTHERN BOULEVARD  SOUTHERN BOULEVARD      ADDRESS            BRONX   \n4            223 78 STREET           78 STREET      ADDRESS         BROOKLYN   \n\n  Status                             Resolution Description    Borough  \\\n0   Open  The following complaint conditions are still o...  MANHATTAN   \n1   Open  The following complaint conditions are still o...   BROOKLYN   \n2   Open  The following complaint conditions are still o...     QUEENS   \n3   Open  The following complaint conditions are still o...      BRONX   \n4   Open  The following complaint conditions are still o...   BROOKLYN   \n\n    Latitude  Longitude  \n0  40.765132 -73.988993  \n1  40.618484 -73.992673  \n2  40.750269 -73.879432  \n3  40.853773 -73.881558  \n4  40.629745 -74.030533  ",
      "text/html": "<div>\n<style scoped>\n    .dataframe tbody tr th:only-of-type {\n        vertical-align: middle;\n    }\n\n    .dataframe tbody tr th {\n        vertical-align: top;\n    }\n\n    .dataframe thead th {\n        text-align: right;\n    }\n</style>\n<table border=\"1\" class=\"dataframe\">\n  <thead>\n    <tr style=\"text-align: right;\">\n      <th></th>\n      <th>Unnamed: 0</th>\n      <th>Unique Key</th>\n      <th>Created Date</th>\n      <th>Closed Date</th>\n      <th>Complaint Type</th>\n      <th>Location Type</th>\n      <th>Incident Zip</th>\n      <th>Incident Address</th>\n      <th>Street Name</th>\n      <th>Address Type</th>\n      <th>City</th>\n      <th>Status</th>\n      <th>Resolution Description</th>\n      <th>Borough</th>\n      <th>Latitude</th>\n      <th>Longitude</th>\n    </tr>\n  </thead>\n  <tbody>\n    <tr>\n      <th>0</th>\n      <td>0</td>\n      <td>45531130</td>\n      <td>02/02/2020 06:09:17 AM</td>\n      <td>NaN</td>\n      <td>HEAT/HOT WATER</td>\n      <td>RESIDENTIAL BUILDING</td>\n      <td>10019.0</td>\n      <td>426 WEST   52 STREET</td>\n      <td>WEST   52 STREET</td>\n      <td>ADDRESS</td>\n      <td>NEW YORK</td>\n      <td>Open</td>\n      <td>The following complaint conditions are still o...</td>\n      <td>MANHATTAN</td>\n      <td>40.765132</td>\n      <td>-73.988993</td>\n    </tr>\n    <tr>\n      <th>1</th>\n      <td>1</td>\n      <td>45529784</td>\n      <td>02/02/2020 02:15:24 PM</td>\n      <td>NaN</td>\n      <td>UNSANITARY CONDITION</td>\n      <td>RESIDENTIAL BUILDING</td>\n      <td>11204.0</td>\n      <td>1751 67 STREET</td>\n      <td>67 STREET</td>\n      <td>ADDRESS</td>\n      <td>BROOKLYN</td>\n      <td>Open</td>\n      <td>The following complaint conditions are still o...</td>\n      <td>BROOKLYN</td>\n      <td>40.618484</td>\n      <td>-73.992673</td>\n    </tr>\n    <tr>\n      <th>2</th>\n      <td>2</td>\n      <td>45527528</td>\n      <td>02/02/2020 02:27:41 AM</td>\n      <td>NaN</td>\n      <td>HEAT/HOT WATER</td>\n      <td>RESIDENTIAL BUILDING</td>\n      <td>11372.0</td>\n      <td>87-15 37 AVENUE</td>\n      <td>37 AVENUE</td>\n      <td>ADDRESS</td>\n      <td>Jackson Heights</td>\n      <td>Open</td>\n      <td>The following complaint conditions are still o...</td>\n      <td>QUEENS</td>\n      <td>40.750269</td>\n      <td>-73.879432</td>\n    </tr>\n    <tr>\n      <th>3</th>\n      <td>3</td>\n      <td>45530329</td>\n      <td>02/02/2020 12:13:18 PM</td>\n      <td>NaN</td>\n      <td>HEAT/HOT WATER</td>\n      <td>RESIDENTIAL BUILDING</td>\n      <td>10458.0</td>\n      <td>2405 SOUTHERN BOULEVARD</td>\n      <td>SOUTHERN BOULEVARD</td>\n      <td>ADDRESS</td>\n      <td>BRONX</td>\n      <td>Open</td>\n      <td>The following complaint conditions are still o...</td>\n      <td>BRONX</td>\n      <td>40.853773</td>\n      <td>-73.881558</td>\n    </tr>\n    <tr>\n      <th>4</th>\n      <td>4</td>\n      <td>45528814</td>\n      <td>02/02/2020 01:59:44 PM</td>\n      <td>NaN</td>\n      <td>APPLIANCE</td>\n      <td>RESIDENTIAL BUILDING</td>\n      <td>11209.0</td>\n      <td>223 78 STREET</td>\n      <td>78 STREET</td>\n      <td>ADDRESS</td>\n      <td>BROOKLYN</td>\n      <td>Open</td>\n      <td>The following complaint conditions are still o...</td>\n      <td>BROOKLYN</td>\n      <td>40.629745</td>\n      <td>-74.030533</td>\n    </tr>\n  </tbody>\n</table>\n</div>"
     },
     "metadata": {},
     "execution_count": 2
    }
   ],
   "source": [
    "df.head()"
   ]
  },
  {
   "cell_type": "code",
   "execution_count": 3,
   "metadata": {},
   "outputs": [
    {
     "output_type": "execute_result",
     "data": {
      "text/plain": "Index(['Unnamed: 0', 'Unique Key', 'Created Date', 'Closed Date',\n       'Complaint Type', 'Location Type', 'Incident Zip', 'Incident Address',\n       'Street Name', 'Address Type', 'City', 'Status',\n       'Resolution Description', 'Borough', 'Latitude', 'Longitude'],\n      dtype='object')"
     },
     "metadata": {},
     "execution_count": 3
    }
   ],
   "source": [
    "df.columns"
   ]
  },
  {
   "cell_type": "code",
   "execution_count": 4,
   "metadata": {},
   "outputs": [
    {
     "output_type": "execute_result",
     "data": {
      "text/plain": "(6019843, 16)"
     },
     "metadata": {},
     "execution_count": 4
    }
   ],
   "source": [
    "df.shape"
   ]
  },
  {
   "cell_type": "markdown",
   "metadata": {},
   "source": [
    "# ++++++++++++++++++++++++++++++++"
   ]
  },
  {
   "cell_type": "code",
   "execution_count": 5,
   "metadata": {},
   "outputs": [
    {
     "output_type": "execute_result",
     "data": {
      "text/plain": "   Unnamed: 0  Unique Key            Created Date Closed Date  \\\n0           0    45531130  02/02/2020 06:09:17 AM         NaN   \n1           1    45529784  02/02/2020 02:15:24 PM         NaN   \n2           2    45527528  02/02/2020 02:27:41 AM         NaN   \n\n         Complaint Type         Location Type  Incident Zip  \\\n0        HEAT/HOT WATER  RESIDENTIAL BUILDING       10019.0   \n1  UNSANITARY CONDITION  RESIDENTIAL BUILDING       11204.0   \n2        HEAT/HOT WATER  RESIDENTIAL BUILDING       11372.0   \n\n       Incident Address       Street Name Address Type             City  \\\n0  426 WEST   52 STREET  WEST   52 STREET      ADDRESS         NEW YORK   \n1        1751 67 STREET         67 STREET      ADDRESS         BROOKLYN   \n2       87-15 37 AVENUE         37 AVENUE      ADDRESS  Jackson Heights   \n\n  Status                             Resolution Description    Borough  \\\n0   Open  The following complaint conditions are still o...  MANHATTAN   \n1   Open  The following complaint conditions are still o...   BROOKLYN   \n2   Open  The following complaint conditions are still o...     QUEENS   \n\n    Latitude  Longitude  complaint_type  \n0  40.765132 -73.988993              12  \n1  40.618484 -73.992673              26  \n2  40.750269 -73.879432              12  ",
      "text/html": "<div>\n<style scoped>\n    .dataframe tbody tr th:only-of-type {\n        vertical-align: middle;\n    }\n\n    .dataframe tbody tr th {\n        vertical-align: top;\n    }\n\n    .dataframe thead th {\n        text-align: right;\n    }\n</style>\n<table border=\"1\" class=\"dataframe\">\n  <thead>\n    <tr style=\"text-align: right;\">\n      <th></th>\n      <th>Unnamed: 0</th>\n      <th>Unique Key</th>\n      <th>Created Date</th>\n      <th>Closed Date</th>\n      <th>Complaint Type</th>\n      <th>Location Type</th>\n      <th>Incident Zip</th>\n      <th>Incident Address</th>\n      <th>Street Name</th>\n      <th>Address Type</th>\n      <th>City</th>\n      <th>Status</th>\n      <th>Resolution Description</th>\n      <th>Borough</th>\n      <th>Latitude</th>\n      <th>Longitude</th>\n      <th>complaint_type</th>\n    </tr>\n  </thead>\n  <tbody>\n    <tr>\n      <th>0</th>\n      <td>0</td>\n      <td>45531130</td>\n      <td>02/02/2020 06:09:17 AM</td>\n      <td>NaN</td>\n      <td>HEAT/HOT WATER</td>\n      <td>RESIDENTIAL BUILDING</td>\n      <td>10019.0</td>\n      <td>426 WEST   52 STREET</td>\n      <td>WEST   52 STREET</td>\n      <td>ADDRESS</td>\n      <td>NEW YORK</td>\n      <td>Open</td>\n      <td>The following complaint conditions are still o...</td>\n      <td>MANHATTAN</td>\n      <td>40.765132</td>\n      <td>-73.988993</td>\n      <td>12</td>\n    </tr>\n    <tr>\n      <th>1</th>\n      <td>1</td>\n      <td>45529784</td>\n      <td>02/02/2020 02:15:24 PM</td>\n      <td>NaN</td>\n      <td>UNSANITARY CONDITION</td>\n      <td>RESIDENTIAL BUILDING</td>\n      <td>11204.0</td>\n      <td>1751 67 STREET</td>\n      <td>67 STREET</td>\n      <td>ADDRESS</td>\n      <td>BROOKLYN</td>\n      <td>Open</td>\n      <td>The following complaint conditions are still o...</td>\n      <td>BROOKLYN</td>\n      <td>40.618484</td>\n      <td>-73.992673</td>\n      <td>26</td>\n    </tr>\n    <tr>\n      <th>2</th>\n      <td>2</td>\n      <td>45527528</td>\n      <td>02/02/2020 02:27:41 AM</td>\n      <td>NaN</td>\n      <td>HEAT/HOT WATER</td>\n      <td>RESIDENTIAL BUILDING</td>\n      <td>11372.0</td>\n      <td>87-15 37 AVENUE</td>\n      <td>37 AVENUE</td>\n      <td>ADDRESS</td>\n      <td>Jackson Heights</td>\n      <td>Open</td>\n      <td>The following complaint conditions are still o...</td>\n      <td>QUEENS</td>\n      <td>40.750269</td>\n      <td>-73.879432</td>\n      <td>12</td>\n    </tr>\n  </tbody>\n</table>\n</div>"
     },
     "metadata": {},
     "execution_count": 5
    }
   ],
   "source": [
    "from sklearn.preprocessing import LabelEncoder\n",
    "\n",
    "le = LabelEncoder()\n",
    "df['complaint_type'] = le.fit_transform(df['Complaint Type'])\n",
    "\n",
    "df.head(3)\n"
   ]
  },
  {
   "cell_type": "code",
   "execution_count": 6,
   "metadata": {},
   "outputs": [
    {
     "output_type": "execute_result",
     "data": {
      "text/plain": "12    1261574\n13     887850\n21     711130\n10     500863\n26     451643\n19     361257\n20     346438\n5      307310\n16     260890\n4      205278\n29     193631\n9      151308\n8      137402\n1      112831\n14      52824\n23      51529\n17       7142\n6        6725\n27       5499\n3        5078\n11       1163\n25        424\n24         16\n22         11\n0           9\n28          6\n18          6\n2           4\n15          1\n7           1\nName: complaint_type, dtype: int64"
     },
     "metadata": {},
     "execution_count": 6
    }
   ],
   "source": [
    "df['complaint_type'].value_counts()"
   ]
  },
  {
   "cell_type": "markdown",
   "metadata": {},
   "source": [
    "# ++++++++++++++++++++++++++++++++"
   ]
  },
  {
   "cell_type": "code",
   "execution_count": 7,
   "metadata": {},
   "outputs": [
    {
     "output_type": "execute_result",
     "data": {
      "text/plain": "Closed         5886253\nOpen            133220\nIn Progress        364\nAssigned             4\nPending              2\nName: Status, dtype: int64"
     },
     "metadata": {},
     "execution_count": 7
    }
   ],
   "source": [
    "df['Status'].value_counts()\n",
    "\n",
    "# In the 5-borough of NYC, there are 133220 complaint cases that are still open(unresolved) as of this analysis"
   ]
  },
  {
   "cell_type": "code",
   "execution_count": 8,
   "metadata": {},
   "outputs": [],
   "source": [
    "df_open = df[df['Status'] == 'Open']"
   ]
  },
  {
   "cell_type": "code",
   "execution_count": 9,
   "metadata": {},
   "outputs": [
    {
     "output_type": "execute_result",
     "data": {
      "text/plain": "GENERAL CONSTRUCTION      29623\nPLUMBING                  26059\nPAINT - PLASTER           21647\nNONCONST                  15278\nHEATING                   11393\nELECTRIC                   9228\nHEAT/HOT WATER             4698\nAPPLIANCE                  3773\nUNSANITARY CONDITION       3502\nPAINT/PLASTER              1631\nWATER LEAK                 1342\nGENERAL                    1255\nDOOR/WINDOW                1219\nHPD Literature Request     1076\nFLOORING/STAIRS             807\nSAFETY                      268\nCONSTRUCTION                266\nELEVATOR                     94\nOUTSIDE BUILDING             56\nVACANT APARTMENT              5\nName: Complaint Type, dtype: int64"
     },
     "metadata": {},
     "execution_count": 9
    }
   ],
   "source": [
    "df_open['Complaint Type'].value_counts()\n",
    "\n",
    "# 'General Construction' is the top open(unresolved) complaint type"
   ]
  },
  {
   "cell_type": "markdown",
   "metadata": {},
   "source": [
    "## General Construction"
   ]
  },
  {
   "cell_type": "code",
   "execution_count": 10,
   "metadata": {},
   "outputs": [],
   "source": [
    "gencons_open = df_open[df_open['Complaint Type'] == 'GENERAL CONSTRUCTION']"
   ]
  },
  {
   "cell_type": "code",
   "execution_count": 11,
   "metadata": {},
   "outputs": [
    {
     "output_type": "execute_result",
     "data": {
      "text/plain": "9507 KINGS HIGHWAY        325\n900 RIVERSIDE DRIVE       121\n519 WEST 189 STREET       120\n281 WADSWORTH AVENUE      102\n2901 BRIGHTON 8 STREET     72\n                         ... \n2301 HUNTER AVENUE          1\n335 SOUTH 2 STREET          1\n94-11 199 STREET            1\n857 GRAND STREET            1\n1617 PACIFIC STREET         1\nName: Incident Address, Length: 8804, dtype: int64"
     },
     "metadata": {},
     "execution_count": 11
    }
   ],
   "source": [
    "gencons_open['Incident Address'].value_counts()\n",
    "\n",
    "# Seems like the first place to locate those complaints would be the 'Borough'.\n",
    "# However there are 'Boroughs' marked as unspecified.\n",
    "# Using specific 'Incident Address' would be better."
   ]
  },
  {
   "cell_type": "code",
   "execution_count": 12,
   "metadata": {},
   "outputs": [
    {
     "output_type": "execute_result",
     "data": {
      "text/plain": "         Unnamed: 0  Unique Key            Created Date Closed Date  \\\n1025580     1025580    19816815  02/11/2011 12:00:00 AM         NaN   \n1025609     1025609    19816844  02/11/2011 12:00:00 AM         NaN   \n1030158     1030158    19833556  02/14/2011 12:00:00 AM         NaN   \n1030200     1030200    19833598  02/14/2011 12:00:00 AM         NaN   \n1030220     1030220    19833618  02/14/2011 12:00:00 AM         NaN   \n...             ...         ...                     ...         ...   \n1220889     1220889    20636873  06/15/2011 12:00:00 AM         NaN   \n1220936     1220936    20636920  06/15/2011 12:00:00 AM         NaN   \n1221123     1221123    20637107  06/15/2011 12:00:00 AM         NaN   \n1221133     1221133    20637117  06/15/2011 12:00:00 AM         NaN   \n1221228     1221228    20637212  06/15/2011 12:00:00 AM         NaN   \n\n               Complaint Type         Location Type  Incident Zip  \\\n1025580  GENERAL CONSTRUCTION  RESIDENTIAL BUILDING       11212.0   \n1025609  GENERAL CONSTRUCTION  RESIDENTIAL BUILDING       11212.0   \n1030158  GENERAL CONSTRUCTION  RESIDENTIAL BUILDING       11212.0   \n1030200  GENERAL CONSTRUCTION  RESIDENTIAL BUILDING       11212.0   \n1030220  GENERAL CONSTRUCTION  RESIDENTIAL BUILDING       11212.0   \n...                       ...                   ...           ...   \n1220889  GENERAL CONSTRUCTION  RESIDENTIAL BUILDING       11212.0   \n1220936  GENERAL CONSTRUCTION  RESIDENTIAL BUILDING       11212.0   \n1221123  GENERAL CONSTRUCTION  RESIDENTIAL BUILDING       11212.0   \n1221133  GENERAL CONSTRUCTION  RESIDENTIAL BUILDING       11212.0   \n1221228  GENERAL CONSTRUCTION  RESIDENTIAL BUILDING       11212.0   \n\n           Incident Address    Street Name Address Type      City Status  \\\n1025580  9507 KINGS HIGHWAY  KINGS HIGHWAY      ADDRESS  BROOKLYN   Open   \n1025609  9507 KINGS HIGHWAY  KINGS HIGHWAY      ADDRESS  BROOKLYN   Open   \n1030158  9507 KINGS HIGHWAY  KINGS HIGHWAY      ADDRESS  BROOKLYN   Open   \n1030200  9507 KINGS HIGHWAY  KINGS HIGHWAY      ADDRESS  BROOKLYN   Open   \n1030220  9507 KINGS HIGHWAY  KINGS HIGHWAY      ADDRESS  BROOKLYN   Open   \n...                     ...            ...          ...       ...    ...   \n1220889  9507 KINGS HIGHWAY  KINGS HIGHWAY      ADDRESS  BROOKLYN   Open   \n1220936  9507 KINGS HIGHWAY  KINGS HIGHWAY      ADDRESS  BROOKLYN   Open   \n1221123  9507 KINGS HIGHWAY  KINGS HIGHWAY      ADDRESS  BROOKLYN   Open   \n1221133  9507 KINGS HIGHWAY  KINGS HIGHWAY      ADDRESS  BROOKLYN   Open   \n1221228  9507 KINGS HIGHWAY  KINGS HIGHWAY      ADDRESS  BROOKLYN   Open   \n\n                                    Resolution Description      Borough  \\\n1025580  The Department of Housing Preservation and Dev...  Unspecified   \n1025609  The Department of Housing Preservation and Dev...  Unspecified   \n1030158  The Department of Housing Preservation and Dev...  Unspecified   \n1030200  The Department of Housing Preservation and Dev...  Unspecified   \n1030220  The Department of Housing Preservation and Dev...  Unspecified   \n...                                                    ...          ...   \n1220889  The Department of Housing Preservation and Dev...     BROOKLYN   \n1220936  The Department of Housing Preservation and Dev...     BROOKLYN   \n1221123  The Department of Housing Preservation and Dev...     BROOKLYN   \n1221133  The Department of Housing Preservation and Dev...     BROOKLYN   \n1221228  The Department of Housing Preservation and Dev...     BROOKLYN   \n\n          Latitude  Longitude  complaint_type  \n1025580  40.659036 -73.920397              10  \n1025609  40.659036 -73.920397              10  \n1030158  40.659036 -73.920397              10  \n1030200  40.659036 -73.920397              10  \n1030220  40.659036 -73.920397              10  \n...            ...        ...             ...  \n1220889  40.659036 -73.920397              10  \n1220936  40.659036 -73.920397              10  \n1221123  40.659036 -73.920397              10  \n1221133  40.659036 -73.920397              10  \n1221228  40.659036 -73.920397              10  \n\n[325 rows x 17 columns]",
      "text/html": "<div>\n<style scoped>\n    .dataframe tbody tr th:only-of-type {\n        vertical-align: middle;\n    }\n\n    .dataframe tbody tr th {\n        vertical-align: top;\n    }\n\n    .dataframe thead th {\n        text-align: right;\n    }\n</style>\n<table border=\"1\" class=\"dataframe\">\n  <thead>\n    <tr style=\"text-align: right;\">\n      <th></th>\n      <th>Unnamed: 0</th>\n      <th>Unique Key</th>\n      <th>Created Date</th>\n      <th>Closed Date</th>\n      <th>Complaint Type</th>\n      <th>Location Type</th>\n      <th>Incident Zip</th>\n      <th>Incident Address</th>\n      <th>Street Name</th>\n      <th>Address Type</th>\n      <th>City</th>\n      <th>Status</th>\n      <th>Resolution Description</th>\n      <th>Borough</th>\n      <th>Latitude</th>\n      <th>Longitude</th>\n      <th>complaint_type</th>\n    </tr>\n  </thead>\n  <tbody>\n    <tr>\n      <th>1025580</th>\n      <td>1025580</td>\n      <td>19816815</td>\n      <td>02/11/2011 12:00:00 AM</td>\n      <td>NaN</td>\n      <td>GENERAL CONSTRUCTION</td>\n      <td>RESIDENTIAL BUILDING</td>\n      <td>11212.0</td>\n      <td>9507 KINGS HIGHWAY</td>\n      <td>KINGS HIGHWAY</td>\n      <td>ADDRESS</td>\n      <td>BROOKLYN</td>\n      <td>Open</td>\n      <td>The Department of Housing Preservation and Dev...</td>\n      <td>Unspecified</td>\n      <td>40.659036</td>\n      <td>-73.920397</td>\n      <td>10</td>\n    </tr>\n    <tr>\n      <th>1025609</th>\n      <td>1025609</td>\n      <td>19816844</td>\n      <td>02/11/2011 12:00:00 AM</td>\n      <td>NaN</td>\n      <td>GENERAL CONSTRUCTION</td>\n      <td>RESIDENTIAL BUILDING</td>\n      <td>11212.0</td>\n      <td>9507 KINGS HIGHWAY</td>\n      <td>KINGS HIGHWAY</td>\n      <td>ADDRESS</td>\n      <td>BROOKLYN</td>\n      <td>Open</td>\n      <td>The Department of Housing Preservation and Dev...</td>\n      <td>Unspecified</td>\n      <td>40.659036</td>\n      <td>-73.920397</td>\n      <td>10</td>\n    </tr>\n    <tr>\n      <th>1030158</th>\n      <td>1030158</td>\n      <td>19833556</td>\n      <td>02/14/2011 12:00:00 AM</td>\n      <td>NaN</td>\n      <td>GENERAL CONSTRUCTION</td>\n      <td>RESIDENTIAL BUILDING</td>\n      <td>11212.0</td>\n      <td>9507 KINGS HIGHWAY</td>\n      <td>KINGS HIGHWAY</td>\n      <td>ADDRESS</td>\n      <td>BROOKLYN</td>\n      <td>Open</td>\n      <td>The Department of Housing Preservation and Dev...</td>\n      <td>Unspecified</td>\n      <td>40.659036</td>\n      <td>-73.920397</td>\n      <td>10</td>\n    </tr>\n    <tr>\n      <th>1030200</th>\n      <td>1030200</td>\n      <td>19833598</td>\n      <td>02/14/2011 12:00:00 AM</td>\n      <td>NaN</td>\n      <td>GENERAL CONSTRUCTION</td>\n      <td>RESIDENTIAL BUILDING</td>\n      <td>11212.0</td>\n      <td>9507 KINGS HIGHWAY</td>\n      <td>KINGS HIGHWAY</td>\n      <td>ADDRESS</td>\n      <td>BROOKLYN</td>\n      <td>Open</td>\n      <td>The Department of Housing Preservation and Dev...</td>\n      <td>Unspecified</td>\n      <td>40.659036</td>\n      <td>-73.920397</td>\n      <td>10</td>\n    </tr>\n    <tr>\n      <th>1030220</th>\n      <td>1030220</td>\n      <td>19833618</td>\n      <td>02/14/2011 12:00:00 AM</td>\n      <td>NaN</td>\n      <td>GENERAL CONSTRUCTION</td>\n      <td>RESIDENTIAL BUILDING</td>\n      <td>11212.0</td>\n      <td>9507 KINGS HIGHWAY</td>\n      <td>KINGS HIGHWAY</td>\n      <td>ADDRESS</td>\n      <td>BROOKLYN</td>\n      <td>Open</td>\n      <td>The Department of Housing Preservation and Dev...</td>\n      <td>Unspecified</td>\n      <td>40.659036</td>\n      <td>-73.920397</td>\n      <td>10</td>\n    </tr>\n    <tr>\n      <th>...</th>\n      <td>...</td>\n      <td>...</td>\n      <td>...</td>\n      <td>...</td>\n      <td>...</td>\n      <td>...</td>\n      <td>...</td>\n      <td>...</td>\n      <td>...</td>\n      <td>...</td>\n      <td>...</td>\n      <td>...</td>\n      <td>...</td>\n      <td>...</td>\n      <td>...</td>\n      <td>...</td>\n      <td>...</td>\n    </tr>\n    <tr>\n      <th>1220889</th>\n      <td>1220889</td>\n      <td>20636873</td>\n      <td>06/15/2011 12:00:00 AM</td>\n      <td>NaN</td>\n      <td>GENERAL CONSTRUCTION</td>\n      <td>RESIDENTIAL BUILDING</td>\n      <td>11212.0</td>\n      <td>9507 KINGS HIGHWAY</td>\n      <td>KINGS HIGHWAY</td>\n      <td>ADDRESS</td>\n      <td>BROOKLYN</td>\n      <td>Open</td>\n      <td>The Department of Housing Preservation and Dev...</td>\n      <td>BROOKLYN</td>\n      <td>40.659036</td>\n      <td>-73.920397</td>\n      <td>10</td>\n    </tr>\n    <tr>\n      <th>1220936</th>\n      <td>1220936</td>\n      <td>20636920</td>\n      <td>06/15/2011 12:00:00 AM</td>\n      <td>NaN</td>\n      <td>GENERAL CONSTRUCTION</td>\n      <td>RESIDENTIAL BUILDING</td>\n      <td>11212.0</td>\n      <td>9507 KINGS HIGHWAY</td>\n      <td>KINGS HIGHWAY</td>\n      <td>ADDRESS</td>\n      <td>BROOKLYN</td>\n      <td>Open</td>\n      <td>The Department of Housing Preservation and Dev...</td>\n      <td>BROOKLYN</td>\n      <td>40.659036</td>\n      <td>-73.920397</td>\n      <td>10</td>\n    </tr>\n    <tr>\n      <th>1221123</th>\n      <td>1221123</td>\n      <td>20637107</td>\n      <td>06/15/2011 12:00:00 AM</td>\n      <td>NaN</td>\n      <td>GENERAL CONSTRUCTION</td>\n      <td>RESIDENTIAL BUILDING</td>\n      <td>11212.0</td>\n      <td>9507 KINGS HIGHWAY</td>\n      <td>KINGS HIGHWAY</td>\n      <td>ADDRESS</td>\n      <td>BROOKLYN</td>\n      <td>Open</td>\n      <td>The Department of Housing Preservation and Dev...</td>\n      <td>BROOKLYN</td>\n      <td>40.659036</td>\n      <td>-73.920397</td>\n      <td>10</td>\n    </tr>\n    <tr>\n      <th>1221133</th>\n      <td>1221133</td>\n      <td>20637117</td>\n      <td>06/15/2011 12:00:00 AM</td>\n      <td>NaN</td>\n      <td>GENERAL CONSTRUCTION</td>\n      <td>RESIDENTIAL BUILDING</td>\n      <td>11212.0</td>\n      <td>9507 KINGS HIGHWAY</td>\n      <td>KINGS HIGHWAY</td>\n      <td>ADDRESS</td>\n      <td>BROOKLYN</td>\n      <td>Open</td>\n      <td>The Department of Housing Preservation and Dev...</td>\n      <td>BROOKLYN</td>\n      <td>40.659036</td>\n      <td>-73.920397</td>\n      <td>10</td>\n    </tr>\n    <tr>\n      <th>1221228</th>\n      <td>1221228</td>\n      <td>20637212</td>\n      <td>06/15/2011 12:00:00 AM</td>\n      <td>NaN</td>\n      <td>GENERAL CONSTRUCTION</td>\n      <td>RESIDENTIAL BUILDING</td>\n      <td>11212.0</td>\n      <td>9507 KINGS HIGHWAY</td>\n      <td>KINGS HIGHWAY</td>\n      <td>ADDRESS</td>\n      <td>BROOKLYN</td>\n      <td>Open</td>\n      <td>The Department of Housing Preservation and Dev...</td>\n      <td>BROOKLYN</td>\n      <td>40.659036</td>\n      <td>-73.920397</td>\n      <td>10</td>\n    </tr>\n  </tbody>\n</table>\n<p>325 rows × 17 columns</p>\n</div>"
     },
     "metadata": {},
     "execution_count": 12
    }
   ],
   "source": [
    "# Since 2011, there are 325 unresolved 'general construction' complaints in a residential building at 9507 Kings Highway, Brooklyn, NY 11212.\n",
    "\n",
    "gencons_open[gencons_open['Incident Address'] == '9507 KINGS HIGHWAY']"
   ]
  },
  {
   "cell_type": "markdown",
   "metadata": {},
   "source": [
    "## Plumbing"
   ]
  },
  {
   "cell_type": "code",
   "execution_count": 13,
   "metadata": {},
   "outputs": [
    {
     "output_type": "execute_result",
     "data": {
      "text/plain": "     Unnamed: 0  Unique Key            Created Date Closed Date  \\\n12           12    45529310  02/02/2020 09:12:29 AM         NaN   \n24           24    45528481  02/02/2020 11:13:18 AM         NaN   \n69           69    45530720  02/02/2020 04:27:54 PM         NaN   \n112         112    45531741  02/02/2020 12:36:11 PM         NaN   \n116         116    45528839  02/02/2020 12:46:13 PM         NaN   \n\n    Complaint Type         Location Type  Incident Zip  \\\n12        PLUMBING  RESIDENTIAL BUILDING       11433.0   \n24        PLUMBING  RESIDENTIAL BUILDING       10014.0   \n69        PLUMBING  RESIDENTIAL BUILDING       10459.0   \n112       PLUMBING  RESIDENTIAL BUILDING       10016.0   \n116       PLUMBING  RESIDENTIAL BUILDING       10040.0   \n\n             Incident Address        Street Name Address Type      City  \\\n12   109-25 MERRICK BOULEVARD  MERRICK BOULEVARD      ADDRESS   Jamaica   \n24            97 PERRY STREET       PERRY STREET      ADDRESS  NEW YORK   \n69     1133 LONGFELLOW AVENUE  LONGFELLOW AVENUE      ADDRESS     BRONX   \n112       10 EAST   28 STREET   EAST   28 STREET      ADDRESS  NEW YORK   \n116       16 BROADWAY TERRACE   BROADWAY TERRACE      ADDRESS  NEW YORK   \n\n    Status                             Resolution Description    Borough  \\\n12    Open  The following complaint conditions are still o...     QUEENS   \n24    Open  The following complaint conditions are still o...  MANHATTAN   \n69    Open  The following complaint conditions are still o...      BRONX   \n112   Open  The following complaint conditions are still o...  MANHATTAN   \n116   Open  The following complaint conditions are still o...  MANHATTAN   \n\n      Latitude  Longitude  complaint_type  \n12   40.696782 -73.783742              21  \n24   40.735233 -74.005459              21  \n69   40.827265 -73.887946              21  \n112  40.744384 -73.986615              21  \n116  40.857131 -73.931319              21  ",
      "text/html": "<div>\n<style scoped>\n    .dataframe tbody tr th:only-of-type {\n        vertical-align: middle;\n    }\n\n    .dataframe tbody tr th {\n        vertical-align: top;\n    }\n\n    .dataframe thead th {\n        text-align: right;\n    }\n</style>\n<table border=\"1\" class=\"dataframe\">\n  <thead>\n    <tr style=\"text-align: right;\">\n      <th></th>\n      <th>Unnamed: 0</th>\n      <th>Unique Key</th>\n      <th>Created Date</th>\n      <th>Closed Date</th>\n      <th>Complaint Type</th>\n      <th>Location Type</th>\n      <th>Incident Zip</th>\n      <th>Incident Address</th>\n      <th>Street Name</th>\n      <th>Address Type</th>\n      <th>City</th>\n      <th>Status</th>\n      <th>Resolution Description</th>\n      <th>Borough</th>\n      <th>Latitude</th>\n      <th>Longitude</th>\n      <th>complaint_type</th>\n    </tr>\n  </thead>\n  <tbody>\n    <tr>\n      <th>12</th>\n      <td>12</td>\n      <td>45529310</td>\n      <td>02/02/2020 09:12:29 AM</td>\n      <td>NaN</td>\n      <td>PLUMBING</td>\n      <td>RESIDENTIAL BUILDING</td>\n      <td>11433.0</td>\n      <td>109-25 MERRICK BOULEVARD</td>\n      <td>MERRICK BOULEVARD</td>\n      <td>ADDRESS</td>\n      <td>Jamaica</td>\n      <td>Open</td>\n      <td>The following complaint conditions are still o...</td>\n      <td>QUEENS</td>\n      <td>40.696782</td>\n      <td>-73.783742</td>\n      <td>21</td>\n    </tr>\n    <tr>\n      <th>24</th>\n      <td>24</td>\n      <td>45528481</td>\n      <td>02/02/2020 11:13:18 AM</td>\n      <td>NaN</td>\n      <td>PLUMBING</td>\n      <td>RESIDENTIAL BUILDING</td>\n      <td>10014.0</td>\n      <td>97 PERRY STREET</td>\n      <td>PERRY STREET</td>\n      <td>ADDRESS</td>\n      <td>NEW YORK</td>\n      <td>Open</td>\n      <td>The following complaint conditions are still o...</td>\n      <td>MANHATTAN</td>\n      <td>40.735233</td>\n      <td>-74.005459</td>\n      <td>21</td>\n    </tr>\n    <tr>\n      <th>69</th>\n      <td>69</td>\n      <td>45530720</td>\n      <td>02/02/2020 04:27:54 PM</td>\n      <td>NaN</td>\n      <td>PLUMBING</td>\n      <td>RESIDENTIAL BUILDING</td>\n      <td>10459.0</td>\n      <td>1133 LONGFELLOW AVENUE</td>\n      <td>LONGFELLOW AVENUE</td>\n      <td>ADDRESS</td>\n      <td>BRONX</td>\n      <td>Open</td>\n      <td>The following complaint conditions are still o...</td>\n      <td>BRONX</td>\n      <td>40.827265</td>\n      <td>-73.887946</td>\n      <td>21</td>\n    </tr>\n    <tr>\n      <th>112</th>\n      <td>112</td>\n      <td>45531741</td>\n      <td>02/02/2020 12:36:11 PM</td>\n      <td>NaN</td>\n      <td>PLUMBING</td>\n      <td>RESIDENTIAL BUILDING</td>\n      <td>10016.0</td>\n      <td>10 EAST   28 STREET</td>\n      <td>EAST   28 STREET</td>\n      <td>ADDRESS</td>\n      <td>NEW YORK</td>\n      <td>Open</td>\n      <td>The following complaint conditions are still o...</td>\n      <td>MANHATTAN</td>\n      <td>40.744384</td>\n      <td>-73.986615</td>\n      <td>21</td>\n    </tr>\n    <tr>\n      <th>116</th>\n      <td>116</td>\n      <td>45528839</td>\n      <td>02/02/2020 12:46:13 PM</td>\n      <td>NaN</td>\n      <td>PLUMBING</td>\n      <td>RESIDENTIAL BUILDING</td>\n      <td>10040.0</td>\n      <td>16 BROADWAY TERRACE</td>\n      <td>BROADWAY TERRACE</td>\n      <td>ADDRESS</td>\n      <td>NEW YORK</td>\n      <td>Open</td>\n      <td>The following complaint conditions are still o...</td>\n      <td>MANHATTAN</td>\n      <td>40.857131</td>\n      <td>-73.931319</td>\n      <td>21</td>\n    </tr>\n  </tbody>\n</table>\n</div>"
     },
     "metadata": {},
     "execution_count": 13
    }
   ],
   "source": [
    "plumb_open = df_open[df_open['Complaint Type'] == 'PLUMBING']\n",
    "plumb_open.head()"
   ]
  },
  {
   "cell_type": "code",
   "execution_count": 14,
   "metadata": {},
   "outputs": [
    {
     "output_type": "execute_result",
     "data": {
      "text/plain": "9507 KINGS HIGHWAY        196\n900 RIVERSIDE DRIVE        57\n281 WADSWORTH AVENUE       46\n541 WEST 204 STREET        44\n2901 BRIGHTON 8 STREET     39\n                         ... \n97-33 101 STREET            1\n878 WOODWARD AVENUE         1\n1321 ROSEDALE AVENUE        1\n298 GATES AVENUE            1\n3444 KNOX PLACE             1\nName: Incident Address, Length: 9605, dtype: int64"
     },
     "metadata": {},
     "execution_count": 14
    }
   ],
   "source": [
    "plumb_open['Incident Address'].value_counts()\n",
    "\n",
    "# Looks like this address got lots of complaints including 'plumbing'"
   ]
  },
  {
   "cell_type": "code",
   "execution_count": 15,
   "metadata": {},
   "outputs": [
    {
     "output_type": "execute_result",
     "data": {
      "text/plain": "         Unnamed: 0  Unique Key            Created Date Closed Date  \\\n1029679     1029679    19833035  02/14/2011 12:00:00 AM         NaN   \n1029710     1029710    19833066  02/14/2011 12:00:00 AM         NaN   \n1029760     1029760    19833116  02/14/2011 12:00:00 AM         NaN   \n1029780     1029780    19833136  02/14/2011 12:00:00 AM         NaN   \n1036803     1036803    19858819  02/17/2011 12:00:00 AM         NaN   \n...             ...         ...                     ...         ...   \n1219894     1219894    20635879  06/15/2011 12:00:00 AM         NaN   \n1219930     1219930    20635915  06/15/2011 12:00:00 AM         NaN   \n1220427     1220427    20636411  06/15/2011 12:00:00 AM         NaN   \n1221060     1221060    20637044  06/15/2011 12:00:00 AM         NaN   \n1221168     1221168    20637152  06/15/2011 12:00:00 AM         NaN   \n\n        Complaint Type         Location Type  Incident Zip  \\\n1029679       PLUMBING  RESIDENTIAL BUILDING       11212.0   \n1029710       PLUMBING  RESIDENTIAL BUILDING       11212.0   \n1029760       PLUMBING  RESIDENTIAL BUILDING       11212.0   \n1029780       PLUMBING  RESIDENTIAL BUILDING       11212.0   \n1036803       PLUMBING  RESIDENTIAL BUILDING       11212.0   \n...                ...                   ...           ...   \n1219894       PLUMBING  RESIDENTIAL BUILDING       11212.0   \n1219930       PLUMBING  RESIDENTIAL BUILDING       11212.0   \n1220427       PLUMBING  RESIDENTIAL BUILDING       11212.0   \n1221060       PLUMBING  RESIDENTIAL BUILDING       11212.0   \n1221168       PLUMBING  RESIDENTIAL BUILDING       11212.0   \n\n           Incident Address    Street Name Address Type      City Status  \\\n1029679  9507 KINGS HIGHWAY  KINGS HIGHWAY      ADDRESS  BROOKLYN   Open   \n1029710  9507 KINGS HIGHWAY  KINGS HIGHWAY      ADDRESS  BROOKLYN   Open   \n1029760  9507 KINGS HIGHWAY  KINGS HIGHWAY      ADDRESS  BROOKLYN   Open   \n1029780  9507 KINGS HIGHWAY  KINGS HIGHWAY      ADDRESS  BROOKLYN   Open   \n1036803  9507 KINGS HIGHWAY  KINGS HIGHWAY      ADDRESS  BROOKLYN   Open   \n...                     ...            ...          ...       ...    ...   \n1219894  9507 KINGS HIGHWAY  KINGS HIGHWAY      ADDRESS  BROOKLYN   Open   \n1219930  9507 KINGS HIGHWAY  KINGS HIGHWAY      ADDRESS  BROOKLYN   Open   \n1220427  9507 KINGS HIGHWAY  KINGS HIGHWAY      ADDRESS  BROOKLYN   Open   \n1221060  9507 KINGS HIGHWAY  KINGS HIGHWAY      ADDRESS  BROOKLYN   Open   \n1221168  9507 KINGS HIGHWAY  KINGS HIGHWAY      ADDRESS  BROOKLYN   Open   \n\n                                    Resolution Description      Borough  \\\n1029679  The Department of Housing Preservation and Dev...  Unspecified   \n1029710  The Department of Housing Preservation and Dev...  Unspecified   \n1029760  The Department of Housing Preservation and Dev...  Unspecified   \n1029780  The Department of Housing Preservation and Dev...  Unspecified   \n1036803  The Department of Housing Preservation and Dev...  Unspecified   \n...                                                    ...          ...   \n1219894  The Department of Housing Preservation and Dev...     BROOKLYN   \n1219930  The Department of Housing Preservation and Dev...     BROOKLYN   \n1220427  The Department of Housing Preservation and Dev...     BROOKLYN   \n1221060  The Department of Housing Preservation and Dev...     BROOKLYN   \n1221168  The Department of Housing Preservation and Dev...     BROOKLYN   \n\n          Latitude  Longitude  complaint_type  \n1029679  40.659036 -73.920397              21  \n1029710  40.659036 -73.920397              21  \n1029760  40.659036 -73.920397              21  \n1029780  40.659036 -73.920397              21  \n1036803  40.659036 -73.920397              21  \n...            ...        ...             ...  \n1219894  40.659036 -73.920397              21  \n1219930  40.659036 -73.920397              21  \n1220427  40.659036 -73.920397              21  \n1221060  40.659036 -73.920397              21  \n1221168  40.659036 -73.920397              21  \n\n[196 rows x 17 columns]",
      "text/html": "<div>\n<style scoped>\n    .dataframe tbody tr th:only-of-type {\n        vertical-align: middle;\n    }\n\n    .dataframe tbody tr th {\n        vertical-align: top;\n    }\n\n    .dataframe thead th {\n        text-align: right;\n    }\n</style>\n<table border=\"1\" class=\"dataframe\">\n  <thead>\n    <tr style=\"text-align: right;\">\n      <th></th>\n      <th>Unnamed: 0</th>\n      <th>Unique Key</th>\n      <th>Created Date</th>\n      <th>Closed Date</th>\n      <th>Complaint Type</th>\n      <th>Location Type</th>\n      <th>Incident Zip</th>\n      <th>Incident Address</th>\n      <th>Street Name</th>\n      <th>Address Type</th>\n      <th>City</th>\n      <th>Status</th>\n      <th>Resolution Description</th>\n      <th>Borough</th>\n      <th>Latitude</th>\n      <th>Longitude</th>\n      <th>complaint_type</th>\n    </tr>\n  </thead>\n  <tbody>\n    <tr>\n      <th>1029679</th>\n      <td>1029679</td>\n      <td>19833035</td>\n      <td>02/14/2011 12:00:00 AM</td>\n      <td>NaN</td>\n      <td>PLUMBING</td>\n      <td>RESIDENTIAL BUILDING</td>\n      <td>11212.0</td>\n      <td>9507 KINGS HIGHWAY</td>\n      <td>KINGS HIGHWAY</td>\n      <td>ADDRESS</td>\n      <td>BROOKLYN</td>\n      <td>Open</td>\n      <td>The Department of Housing Preservation and Dev...</td>\n      <td>Unspecified</td>\n      <td>40.659036</td>\n      <td>-73.920397</td>\n      <td>21</td>\n    </tr>\n    <tr>\n      <th>1029710</th>\n      <td>1029710</td>\n      <td>19833066</td>\n      <td>02/14/2011 12:00:00 AM</td>\n      <td>NaN</td>\n      <td>PLUMBING</td>\n      <td>RESIDENTIAL BUILDING</td>\n      <td>11212.0</td>\n      <td>9507 KINGS HIGHWAY</td>\n      <td>KINGS HIGHWAY</td>\n      <td>ADDRESS</td>\n      <td>BROOKLYN</td>\n      <td>Open</td>\n      <td>The Department of Housing Preservation and Dev...</td>\n      <td>Unspecified</td>\n      <td>40.659036</td>\n      <td>-73.920397</td>\n      <td>21</td>\n    </tr>\n    <tr>\n      <th>1029760</th>\n      <td>1029760</td>\n      <td>19833116</td>\n      <td>02/14/2011 12:00:00 AM</td>\n      <td>NaN</td>\n      <td>PLUMBING</td>\n      <td>RESIDENTIAL BUILDING</td>\n      <td>11212.0</td>\n      <td>9507 KINGS HIGHWAY</td>\n      <td>KINGS HIGHWAY</td>\n      <td>ADDRESS</td>\n      <td>BROOKLYN</td>\n      <td>Open</td>\n      <td>The Department of Housing Preservation and Dev...</td>\n      <td>Unspecified</td>\n      <td>40.659036</td>\n      <td>-73.920397</td>\n      <td>21</td>\n    </tr>\n    <tr>\n      <th>1029780</th>\n      <td>1029780</td>\n      <td>19833136</td>\n      <td>02/14/2011 12:00:00 AM</td>\n      <td>NaN</td>\n      <td>PLUMBING</td>\n      <td>RESIDENTIAL BUILDING</td>\n      <td>11212.0</td>\n      <td>9507 KINGS HIGHWAY</td>\n      <td>KINGS HIGHWAY</td>\n      <td>ADDRESS</td>\n      <td>BROOKLYN</td>\n      <td>Open</td>\n      <td>The Department of Housing Preservation and Dev...</td>\n      <td>Unspecified</td>\n      <td>40.659036</td>\n      <td>-73.920397</td>\n      <td>21</td>\n    </tr>\n    <tr>\n      <th>1036803</th>\n      <td>1036803</td>\n      <td>19858819</td>\n      <td>02/17/2011 12:00:00 AM</td>\n      <td>NaN</td>\n      <td>PLUMBING</td>\n      <td>RESIDENTIAL BUILDING</td>\n      <td>11212.0</td>\n      <td>9507 KINGS HIGHWAY</td>\n      <td>KINGS HIGHWAY</td>\n      <td>ADDRESS</td>\n      <td>BROOKLYN</td>\n      <td>Open</td>\n      <td>The Department of Housing Preservation and Dev...</td>\n      <td>Unspecified</td>\n      <td>40.659036</td>\n      <td>-73.920397</td>\n      <td>21</td>\n    </tr>\n    <tr>\n      <th>...</th>\n      <td>...</td>\n      <td>...</td>\n      <td>...</td>\n      <td>...</td>\n      <td>...</td>\n      <td>...</td>\n      <td>...</td>\n      <td>...</td>\n      <td>...</td>\n      <td>...</td>\n      <td>...</td>\n      <td>...</td>\n      <td>...</td>\n      <td>...</td>\n      <td>...</td>\n      <td>...</td>\n      <td>...</td>\n    </tr>\n    <tr>\n      <th>1219894</th>\n      <td>1219894</td>\n      <td>20635879</td>\n      <td>06/15/2011 12:00:00 AM</td>\n      <td>NaN</td>\n      <td>PLUMBING</td>\n      <td>RESIDENTIAL BUILDING</td>\n      <td>11212.0</td>\n      <td>9507 KINGS HIGHWAY</td>\n      <td>KINGS HIGHWAY</td>\n      <td>ADDRESS</td>\n      <td>BROOKLYN</td>\n      <td>Open</td>\n      <td>The Department of Housing Preservation and Dev...</td>\n      <td>BROOKLYN</td>\n      <td>40.659036</td>\n      <td>-73.920397</td>\n      <td>21</td>\n    </tr>\n    <tr>\n      <th>1219930</th>\n      <td>1219930</td>\n      <td>20635915</td>\n      <td>06/15/2011 12:00:00 AM</td>\n      <td>NaN</td>\n      <td>PLUMBING</td>\n      <td>RESIDENTIAL BUILDING</td>\n      <td>11212.0</td>\n      <td>9507 KINGS HIGHWAY</td>\n      <td>KINGS HIGHWAY</td>\n      <td>ADDRESS</td>\n      <td>BROOKLYN</td>\n      <td>Open</td>\n      <td>The Department of Housing Preservation and Dev...</td>\n      <td>BROOKLYN</td>\n      <td>40.659036</td>\n      <td>-73.920397</td>\n      <td>21</td>\n    </tr>\n    <tr>\n      <th>1220427</th>\n      <td>1220427</td>\n      <td>20636411</td>\n      <td>06/15/2011 12:00:00 AM</td>\n      <td>NaN</td>\n      <td>PLUMBING</td>\n      <td>RESIDENTIAL BUILDING</td>\n      <td>11212.0</td>\n      <td>9507 KINGS HIGHWAY</td>\n      <td>KINGS HIGHWAY</td>\n      <td>ADDRESS</td>\n      <td>BROOKLYN</td>\n      <td>Open</td>\n      <td>The Department of Housing Preservation and Dev...</td>\n      <td>BROOKLYN</td>\n      <td>40.659036</td>\n      <td>-73.920397</td>\n      <td>21</td>\n    </tr>\n    <tr>\n      <th>1221060</th>\n      <td>1221060</td>\n      <td>20637044</td>\n      <td>06/15/2011 12:00:00 AM</td>\n      <td>NaN</td>\n      <td>PLUMBING</td>\n      <td>RESIDENTIAL BUILDING</td>\n      <td>11212.0</td>\n      <td>9507 KINGS HIGHWAY</td>\n      <td>KINGS HIGHWAY</td>\n      <td>ADDRESS</td>\n      <td>BROOKLYN</td>\n      <td>Open</td>\n      <td>The Department of Housing Preservation and Dev...</td>\n      <td>BROOKLYN</td>\n      <td>40.659036</td>\n      <td>-73.920397</td>\n      <td>21</td>\n    </tr>\n    <tr>\n      <th>1221168</th>\n      <td>1221168</td>\n      <td>20637152</td>\n      <td>06/15/2011 12:00:00 AM</td>\n      <td>NaN</td>\n      <td>PLUMBING</td>\n      <td>RESIDENTIAL BUILDING</td>\n      <td>11212.0</td>\n      <td>9507 KINGS HIGHWAY</td>\n      <td>KINGS HIGHWAY</td>\n      <td>ADDRESS</td>\n      <td>BROOKLYN</td>\n      <td>Open</td>\n      <td>The Department of Housing Preservation and Dev...</td>\n      <td>BROOKLYN</td>\n      <td>40.659036</td>\n      <td>-73.920397</td>\n      <td>21</td>\n    </tr>\n  </tbody>\n</table>\n<p>196 rows × 17 columns</p>\n</div>"
     },
     "metadata": {},
     "execution_count": 15
    }
   ],
   "source": [
    "plumb_open[plumb_open['Incident Address'] == '9507 KINGS HIGHWAY']"
   ]
  },
  {
   "cell_type": "markdown",
   "metadata": {},
   "source": [
    "## Paint - Plaster"
   ]
  },
  {
   "cell_type": "code",
   "execution_count": 16,
   "metadata": {},
   "outputs": [],
   "source": [
    "pp_open = df_open[df_open['Complaint Type'] == 'PAINT - PLASTER']"
   ]
  },
  {
   "cell_type": "code",
   "execution_count": 17,
   "metadata": {},
   "outputs": [
    {
     "output_type": "execute_result",
     "data": {
      "text/plain": "9507 KINGS HIGHWAY          142\n224 COVERT STREET           101\n900 RIVERSIDE DRIVE          99\n2490 TIEBOUT AVENUE          73\n657 FLATBUSH AVENUE          57\n                           ... \n105-11 177 STREET             1\n150 LEFFERTS AVENUE           1\n421 EAST 72 STREET            1\n1180 ANDERSON AVENUE          1\n2183 NEW ENGLAND THRUWAY      1\nName: Incident Address, Length: 6553, dtype: int64"
     },
     "metadata": {},
     "execution_count": 17
    }
   ],
   "source": [
    "pp_open['Incident Address'].value_counts()\n",
    "\n",
    "# Got more complaints about 'paint - plaster' at this same address in Brooklyn"
   ]
  },
  {
   "cell_type": "code",
   "execution_count": 18,
   "metadata": {},
   "outputs": [
    {
     "output_type": "execute_result",
     "data": {
      "text/plain": "         Unnamed: 0  Unique Key            Created Date Closed Date  \\\n1029503     1029503    19832859  02/14/2011 12:00:00 AM         NaN   \n1029525     1029525    19832881  02/14/2011 12:00:00 AM         NaN   \n1029570     1029570    19832926  02/14/2011 12:00:00 AM         NaN   \n1031465     1031465    19834865  02/14/2011 12:00:00 AM         NaN   \n1036636     1036636    19858652  02/17/2011 12:00:00 AM         NaN   \n...             ...         ...                     ...         ...   \n1199065     1199065    20512720  05/26/2011 12:00:00 AM         NaN   \n1220366     1220366    20636350  06/15/2011 12:00:00 AM         NaN   \n1220948     1220948    20636932  06/15/2011 12:00:00 AM         NaN   \n1221076     1221076    20637060  06/15/2011 12:00:00 AM         NaN   \n1221179     1221179    20637163  06/15/2011 12:00:00 AM         NaN   \n\n          Complaint Type         Location Type  Incident Zip  \\\n1029503  PAINT - PLASTER  RESIDENTIAL BUILDING       11212.0   \n1029525  PAINT - PLASTER  RESIDENTIAL BUILDING       11212.0   \n1029570  PAINT - PLASTER  RESIDENTIAL BUILDING       11212.0   \n1031465  PAINT - PLASTER  RESIDENTIAL BUILDING       11212.0   \n1036636  PAINT - PLASTER  RESIDENTIAL BUILDING       11212.0   \n...                  ...                   ...           ...   \n1199065  PAINT - PLASTER  RESIDENTIAL BUILDING       11212.0   \n1220366  PAINT - PLASTER  RESIDENTIAL BUILDING       11212.0   \n1220948  PAINT - PLASTER  RESIDENTIAL BUILDING       11212.0   \n1221076  PAINT - PLASTER  RESIDENTIAL BUILDING       11212.0   \n1221179  PAINT - PLASTER  RESIDENTIAL BUILDING       11212.0   \n\n           Incident Address    Street Name Address Type      City Status  \\\n1029503  9507 KINGS HIGHWAY  KINGS HIGHWAY      ADDRESS  BROOKLYN   Open   \n1029525  9507 KINGS HIGHWAY  KINGS HIGHWAY      ADDRESS  BROOKLYN   Open   \n1029570  9507 KINGS HIGHWAY  KINGS HIGHWAY      ADDRESS  BROOKLYN   Open   \n1031465  9507 KINGS HIGHWAY  KINGS HIGHWAY      ADDRESS  BROOKLYN   Open   \n1036636  9507 KINGS HIGHWAY  KINGS HIGHWAY      ADDRESS  BROOKLYN   Open   \n...                     ...            ...          ...       ...    ...   \n1199065  9507 KINGS HIGHWAY  KINGS HIGHWAY      ADDRESS  BROOKLYN   Open   \n1220366  9507 KINGS HIGHWAY  KINGS HIGHWAY      ADDRESS  BROOKLYN   Open   \n1220948  9507 KINGS HIGHWAY  KINGS HIGHWAY      ADDRESS  BROOKLYN   Open   \n1221076  9507 KINGS HIGHWAY  KINGS HIGHWAY      ADDRESS  BROOKLYN   Open   \n1221179  9507 KINGS HIGHWAY  KINGS HIGHWAY      ADDRESS  BROOKLYN   Open   \n\n                                    Resolution Description      Borough  \\\n1029503  The Department of Housing Preservation and Dev...  Unspecified   \n1029525  The Department of Housing Preservation and Dev...  Unspecified   \n1029570  The Department of Housing Preservation and Dev...  Unspecified   \n1031465  The Department of Housing Preservation and Dev...  Unspecified   \n1036636  The Department of Housing Preservation and Dev...  Unspecified   \n...                                                    ...          ...   \n1199065  The Department of Housing Preservation and Dev...     BROOKLYN   \n1220366  The Department of Housing Preservation and Dev...     BROOKLYN   \n1220948  The Department of Housing Preservation and Dev...     BROOKLYN   \n1221076  The Department of Housing Preservation and Dev...     BROOKLYN   \n1221179  The Department of Housing Preservation and Dev...     BROOKLYN   \n\n          Latitude  Longitude  complaint_type  \n1029503  40.659036 -73.920397              19  \n1029525  40.659036 -73.920397              19  \n1029570  40.659036 -73.920397              19  \n1031465  40.659036 -73.920397              19  \n1036636  40.659036 -73.920397              19  \n...            ...        ...             ...  \n1199065  40.659036 -73.920397              19  \n1220366  40.659036 -73.920397              19  \n1220948  40.659036 -73.920397              19  \n1221076  40.659036 -73.920397              19  \n1221179  40.659036 -73.920397              19  \n\n[142 rows x 17 columns]",
      "text/html": "<div>\n<style scoped>\n    .dataframe tbody tr th:only-of-type {\n        vertical-align: middle;\n    }\n\n    .dataframe tbody tr th {\n        vertical-align: top;\n    }\n\n    .dataframe thead th {\n        text-align: right;\n    }\n</style>\n<table border=\"1\" class=\"dataframe\">\n  <thead>\n    <tr style=\"text-align: right;\">\n      <th></th>\n      <th>Unnamed: 0</th>\n      <th>Unique Key</th>\n      <th>Created Date</th>\n      <th>Closed Date</th>\n      <th>Complaint Type</th>\n      <th>Location Type</th>\n      <th>Incident Zip</th>\n      <th>Incident Address</th>\n      <th>Street Name</th>\n      <th>Address Type</th>\n      <th>City</th>\n      <th>Status</th>\n      <th>Resolution Description</th>\n      <th>Borough</th>\n      <th>Latitude</th>\n      <th>Longitude</th>\n      <th>complaint_type</th>\n    </tr>\n  </thead>\n  <tbody>\n    <tr>\n      <th>1029503</th>\n      <td>1029503</td>\n      <td>19832859</td>\n      <td>02/14/2011 12:00:00 AM</td>\n      <td>NaN</td>\n      <td>PAINT - PLASTER</td>\n      <td>RESIDENTIAL BUILDING</td>\n      <td>11212.0</td>\n      <td>9507 KINGS HIGHWAY</td>\n      <td>KINGS HIGHWAY</td>\n      <td>ADDRESS</td>\n      <td>BROOKLYN</td>\n      <td>Open</td>\n      <td>The Department of Housing Preservation and Dev...</td>\n      <td>Unspecified</td>\n      <td>40.659036</td>\n      <td>-73.920397</td>\n      <td>19</td>\n    </tr>\n    <tr>\n      <th>1029525</th>\n      <td>1029525</td>\n      <td>19832881</td>\n      <td>02/14/2011 12:00:00 AM</td>\n      <td>NaN</td>\n      <td>PAINT - PLASTER</td>\n      <td>RESIDENTIAL BUILDING</td>\n      <td>11212.0</td>\n      <td>9507 KINGS HIGHWAY</td>\n      <td>KINGS HIGHWAY</td>\n      <td>ADDRESS</td>\n      <td>BROOKLYN</td>\n      <td>Open</td>\n      <td>The Department of Housing Preservation and Dev...</td>\n      <td>Unspecified</td>\n      <td>40.659036</td>\n      <td>-73.920397</td>\n      <td>19</td>\n    </tr>\n    <tr>\n      <th>1029570</th>\n      <td>1029570</td>\n      <td>19832926</td>\n      <td>02/14/2011 12:00:00 AM</td>\n      <td>NaN</td>\n      <td>PAINT - PLASTER</td>\n      <td>RESIDENTIAL BUILDING</td>\n      <td>11212.0</td>\n      <td>9507 KINGS HIGHWAY</td>\n      <td>KINGS HIGHWAY</td>\n      <td>ADDRESS</td>\n      <td>BROOKLYN</td>\n      <td>Open</td>\n      <td>The Department of Housing Preservation and Dev...</td>\n      <td>Unspecified</td>\n      <td>40.659036</td>\n      <td>-73.920397</td>\n      <td>19</td>\n    </tr>\n    <tr>\n      <th>1031465</th>\n      <td>1031465</td>\n      <td>19834865</td>\n      <td>02/14/2011 12:00:00 AM</td>\n      <td>NaN</td>\n      <td>PAINT - PLASTER</td>\n      <td>RESIDENTIAL BUILDING</td>\n      <td>11212.0</td>\n      <td>9507 KINGS HIGHWAY</td>\n      <td>KINGS HIGHWAY</td>\n      <td>ADDRESS</td>\n      <td>BROOKLYN</td>\n      <td>Open</td>\n      <td>The Department of Housing Preservation and Dev...</td>\n      <td>Unspecified</td>\n      <td>40.659036</td>\n      <td>-73.920397</td>\n      <td>19</td>\n    </tr>\n    <tr>\n      <th>1036636</th>\n      <td>1036636</td>\n      <td>19858652</td>\n      <td>02/17/2011 12:00:00 AM</td>\n      <td>NaN</td>\n      <td>PAINT - PLASTER</td>\n      <td>RESIDENTIAL BUILDING</td>\n      <td>11212.0</td>\n      <td>9507 KINGS HIGHWAY</td>\n      <td>KINGS HIGHWAY</td>\n      <td>ADDRESS</td>\n      <td>BROOKLYN</td>\n      <td>Open</td>\n      <td>The Department of Housing Preservation and Dev...</td>\n      <td>Unspecified</td>\n      <td>40.659036</td>\n      <td>-73.920397</td>\n      <td>19</td>\n    </tr>\n    <tr>\n      <th>...</th>\n      <td>...</td>\n      <td>...</td>\n      <td>...</td>\n      <td>...</td>\n      <td>...</td>\n      <td>...</td>\n      <td>...</td>\n      <td>...</td>\n      <td>...</td>\n      <td>...</td>\n      <td>...</td>\n      <td>...</td>\n      <td>...</td>\n      <td>...</td>\n      <td>...</td>\n      <td>...</td>\n      <td>...</td>\n    </tr>\n    <tr>\n      <th>1199065</th>\n      <td>1199065</td>\n      <td>20512720</td>\n      <td>05/26/2011 12:00:00 AM</td>\n      <td>NaN</td>\n      <td>PAINT - PLASTER</td>\n      <td>RESIDENTIAL BUILDING</td>\n      <td>11212.0</td>\n      <td>9507 KINGS HIGHWAY</td>\n      <td>KINGS HIGHWAY</td>\n      <td>ADDRESS</td>\n      <td>BROOKLYN</td>\n      <td>Open</td>\n      <td>The Department of Housing Preservation and Dev...</td>\n      <td>BROOKLYN</td>\n      <td>40.659036</td>\n      <td>-73.920397</td>\n      <td>19</td>\n    </tr>\n    <tr>\n      <th>1220366</th>\n      <td>1220366</td>\n      <td>20636350</td>\n      <td>06/15/2011 12:00:00 AM</td>\n      <td>NaN</td>\n      <td>PAINT - PLASTER</td>\n      <td>RESIDENTIAL BUILDING</td>\n      <td>11212.0</td>\n      <td>9507 KINGS HIGHWAY</td>\n      <td>KINGS HIGHWAY</td>\n      <td>ADDRESS</td>\n      <td>BROOKLYN</td>\n      <td>Open</td>\n      <td>The Department of Housing Preservation and Dev...</td>\n      <td>BROOKLYN</td>\n      <td>40.659036</td>\n      <td>-73.920397</td>\n      <td>19</td>\n    </tr>\n    <tr>\n      <th>1220948</th>\n      <td>1220948</td>\n      <td>20636932</td>\n      <td>06/15/2011 12:00:00 AM</td>\n      <td>NaN</td>\n      <td>PAINT - PLASTER</td>\n      <td>RESIDENTIAL BUILDING</td>\n      <td>11212.0</td>\n      <td>9507 KINGS HIGHWAY</td>\n      <td>KINGS HIGHWAY</td>\n      <td>ADDRESS</td>\n      <td>BROOKLYN</td>\n      <td>Open</td>\n      <td>The Department of Housing Preservation and Dev...</td>\n      <td>BROOKLYN</td>\n      <td>40.659036</td>\n      <td>-73.920397</td>\n      <td>19</td>\n    </tr>\n    <tr>\n      <th>1221076</th>\n      <td>1221076</td>\n      <td>20637060</td>\n      <td>06/15/2011 12:00:00 AM</td>\n      <td>NaN</td>\n      <td>PAINT - PLASTER</td>\n      <td>RESIDENTIAL BUILDING</td>\n      <td>11212.0</td>\n      <td>9507 KINGS HIGHWAY</td>\n      <td>KINGS HIGHWAY</td>\n      <td>ADDRESS</td>\n      <td>BROOKLYN</td>\n      <td>Open</td>\n      <td>The Department of Housing Preservation and Dev...</td>\n      <td>BROOKLYN</td>\n      <td>40.659036</td>\n      <td>-73.920397</td>\n      <td>19</td>\n    </tr>\n    <tr>\n      <th>1221179</th>\n      <td>1221179</td>\n      <td>20637163</td>\n      <td>06/15/2011 12:00:00 AM</td>\n      <td>NaN</td>\n      <td>PAINT - PLASTER</td>\n      <td>RESIDENTIAL BUILDING</td>\n      <td>11212.0</td>\n      <td>9507 KINGS HIGHWAY</td>\n      <td>KINGS HIGHWAY</td>\n      <td>ADDRESS</td>\n      <td>BROOKLYN</td>\n      <td>Open</td>\n      <td>The Department of Housing Preservation and Dev...</td>\n      <td>BROOKLYN</td>\n      <td>40.659036</td>\n      <td>-73.920397</td>\n      <td>19</td>\n    </tr>\n  </tbody>\n</table>\n<p>142 rows × 17 columns</p>\n</div>"
     },
     "metadata": {},
     "execution_count": 18
    }
   ],
   "source": [
    "pp_open[pp_open['Incident Address'] == '9507 KINGS HIGHWAY']"
   ]
  },
  {
   "cell_type": "markdown",
   "metadata": {},
   "source": [
    "## Checking other 'Complaints Type'\n",
    "\n",
    "## NonConst"
   ]
  },
  {
   "cell_type": "code",
   "execution_count": 19,
   "metadata": {},
   "outputs": [],
   "source": [
    "nconst_open = df_open[df_open['Complaint Type'] == 'NONCONST']"
   ]
  },
  {
   "cell_type": "code",
   "execution_count": 20,
   "metadata": {},
   "outputs": [
    {
     "output_type": "execute_result",
     "data": {
      "text/plain": "224 COVERT STREET       81\n900 RIVERSIDE DRIVE     47\n3230 CRUGER AVENUE      40\n519 WEST 189 STREET     30\n30 RICHMAN PLAZA        28\n                        ..\n311 EAST 3 STREET        1\n1565 TOWNSEND AVENUE     1\n75 OCEAN AVENUE          1\n2 JUMEL TERRACE          1\n1186 NOSTRAND AVENUE     1\nName: Incident Address, Length: 6418, dtype: int64"
     },
     "metadata": {},
     "execution_count": 20
    }
   ],
   "source": [
    "nconst_open['Incident Address'].value_counts()\n",
    "\n",
    "# Although in the borough of Brooklyn, '224 Covert Street' is not the same address that have 2 top complaints"
   ]
  },
  {
   "cell_type": "code",
   "execution_count": 21,
   "metadata": {},
   "outputs": [
    {
     "output_type": "execute_result",
     "data": {
      "text/plain": "         Unnamed: 0  Unique Key            Created Date Closed Date  \\\n1104546     1104546    20095309  03/23/2011 12:00:00 AM         NaN   \n1106758     1106758    20102913  03/24/2011 12:00:00 AM         NaN   \n1106783     1106783    20102937  03/24/2011 12:00:00 AM         NaN   \n1106797     1106797    20102950  03/24/2011 12:00:00 AM         NaN   \n1106833     1106833    20102986  03/24/2011 12:00:00 AM         NaN   \n...             ...         ...                     ...         ...   \n1201979     1201979    20532819  05/30/2011 12:00:00 AM         NaN   \n1202220     1202220    20533060  05/30/2011 12:00:00 AM         NaN   \n1214224     1214224    20603494  06/10/2011 12:00:00 AM         NaN   \n1214459     1214459    20603847  06/10/2011 12:00:00 AM         NaN   \n1215465     1215465    20604852  06/10/2011 12:00:00 AM         NaN   \n\n        Complaint Type         Location Type  Incident Zip   Incident Address  \\\n1104546       NONCONST  RESIDENTIAL BUILDING       11207.0  224 COVERT STREET   \n1106758       NONCONST  RESIDENTIAL BUILDING       11207.0  224 COVERT STREET   \n1106783       NONCONST  RESIDENTIAL BUILDING       11207.0  224 COVERT STREET   \n1106797       NONCONST  RESIDENTIAL BUILDING       11207.0  224 COVERT STREET   \n1106833       NONCONST  RESIDENTIAL BUILDING       11207.0  224 COVERT STREET   \n...                ...                   ...           ...                ...   \n1201979       NONCONST  RESIDENTIAL BUILDING       11207.0  224 COVERT STREET   \n1202220       NONCONST  RESIDENTIAL BUILDING       11207.0  224 COVERT STREET   \n1214224       NONCONST  RESIDENTIAL BUILDING       11207.0  224 COVERT STREET   \n1214459       NONCONST  RESIDENTIAL BUILDING       11207.0  224 COVERT STREET   \n1215465       NONCONST  RESIDENTIAL BUILDING       11207.0  224 COVERT STREET   \n\n           Street Name Address Type      City Status  \\\n1104546  COVERT STREET      ADDRESS  BROOKLYN   Open   \n1106758  COVERT STREET      ADDRESS  BROOKLYN   Open   \n1106783  COVERT STREET      ADDRESS  BROOKLYN   Open   \n1106797  COVERT STREET      ADDRESS  BROOKLYN   Open   \n1106833  COVERT STREET      ADDRESS  BROOKLYN   Open   \n...                ...          ...       ...    ...   \n1201979  COVERT STREET      ADDRESS  BROOKLYN   Open   \n1202220  COVERT STREET      ADDRESS  BROOKLYN   Open   \n1214224  COVERT STREET      ADDRESS  BROOKLYN   Open   \n1214459  COVERT STREET      ADDRESS  BROOKLYN   Open   \n1215465  COVERT STREET      ADDRESS  BROOKLYN   Open   \n\n                                    Resolution Description   Borough  \\\n1104546  The Department of Housing Preservation and Dev...  BROOKLYN   \n1106758  The following complaint conditions are still o...  BROOKLYN   \n1106783  The following complaint conditions are still o...  BROOKLYN   \n1106797  The following complaint conditions are still o...  BROOKLYN   \n1106833  The following complaint conditions are still o...  BROOKLYN   \n...                                                    ...       ...   \n1201979  The following complaint conditions are still o...  BROOKLYN   \n1202220  The following complaint conditions are still o...  BROOKLYN   \n1214224  The following complaint conditions are still o...  BROOKLYN   \n1214459  The following complaint conditions are still o...  BROOKLYN   \n1215465  The following complaint conditions are still o...  BROOKLYN   \n\n         Latitude  Longitude  complaint_type  \n1104546  40.69097 -73.907713              16  \n1106758  40.69097 -73.907713              16  \n1106783  40.69097 -73.907713              16  \n1106797  40.69097 -73.907713              16  \n1106833  40.69097 -73.907713              16  \n...           ...        ...             ...  \n1201979  40.69097 -73.907713              16  \n1202220  40.69097 -73.907713              16  \n1214224  40.69097 -73.907713              16  \n1214459  40.69097 -73.907713              16  \n1215465  40.69097 -73.907713              16  \n\n[81 rows x 17 columns]",
      "text/html": "<div>\n<style scoped>\n    .dataframe tbody tr th:only-of-type {\n        vertical-align: middle;\n    }\n\n    .dataframe tbody tr th {\n        vertical-align: top;\n    }\n\n    .dataframe thead th {\n        text-align: right;\n    }\n</style>\n<table border=\"1\" class=\"dataframe\">\n  <thead>\n    <tr style=\"text-align: right;\">\n      <th></th>\n      <th>Unnamed: 0</th>\n      <th>Unique Key</th>\n      <th>Created Date</th>\n      <th>Closed Date</th>\n      <th>Complaint Type</th>\n      <th>Location Type</th>\n      <th>Incident Zip</th>\n      <th>Incident Address</th>\n      <th>Street Name</th>\n      <th>Address Type</th>\n      <th>City</th>\n      <th>Status</th>\n      <th>Resolution Description</th>\n      <th>Borough</th>\n      <th>Latitude</th>\n      <th>Longitude</th>\n      <th>complaint_type</th>\n    </tr>\n  </thead>\n  <tbody>\n    <tr>\n      <th>1104546</th>\n      <td>1104546</td>\n      <td>20095309</td>\n      <td>03/23/2011 12:00:00 AM</td>\n      <td>NaN</td>\n      <td>NONCONST</td>\n      <td>RESIDENTIAL BUILDING</td>\n      <td>11207.0</td>\n      <td>224 COVERT STREET</td>\n      <td>COVERT STREET</td>\n      <td>ADDRESS</td>\n      <td>BROOKLYN</td>\n      <td>Open</td>\n      <td>The Department of Housing Preservation and Dev...</td>\n      <td>BROOKLYN</td>\n      <td>40.69097</td>\n      <td>-73.907713</td>\n      <td>16</td>\n    </tr>\n    <tr>\n      <th>1106758</th>\n      <td>1106758</td>\n      <td>20102913</td>\n      <td>03/24/2011 12:00:00 AM</td>\n      <td>NaN</td>\n      <td>NONCONST</td>\n      <td>RESIDENTIAL BUILDING</td>\n      <td>11207.0</td>\n      <td>224 COVERT STREET</td>\n      <td>COVERT STREET</td>\n      <td>ADDRESS</td>\n      <td>BROOKLYN</td>\n      <td>Open</td>\n      <td>The following complaint conditions are still o...</td>\n      <td>BROOKLYN</td>\n      <td>40.69097</td>\n      <td>-73.907713</td>\n      <td>16</td>\n    </tr>\n    <tr>\n      <th>1106783</th>\n      <td>1106783</td>\n      <td>20102937</td>\n      <td>03/24/2011 12:00:00 AM</td>\n      <td>NaN</td>\n      <td>NONCONST</td>\n      <td>RESIDENTIAL BUILDING</td>\n      <td>11207.0</td>\n      <td>224 COVERT STREET</td>\n      <td>COVERT STREET</td>\n      <td>ADDRESS</td>\n      <td>BROOKLYN</td>\n      <td>Open</td>\n      <td>The following complaint conditions are still o...</td>\n      <td>BROOKLYN</td>\n      <td>40.69097</td>\n      <td>-73.907713</td>\n      <td>16</td>\n    </tr>\n    <tr>\n      <th>1106797</th>\n      <td>1106797</td>\n      <td>20102950</td>\n      <td>03/24/2011 12:00:00 AM</td>\n      <td>NaN</td>\n      <td>NONCONST</td>\n      <td>RESIDENTIAL BUILDING</td>\n      <td>11207.0</td>\n      <td>224 COVERT STREET</td>\n      <td>COVERT STREET</td>\n      <td>ADDRESS</td>\n      <td>BROOKLYN</td>\n      <td>Open</td>\n      <td>The following complaint conditions are still o...</td>\n      <td>BROOKLYN</td>\n      <td>40.69097</td>\n      <td>-73.907713</td>\n      <td>16</td>\n    </tr>\n    <tr>\n      <th>1106833</th>\n      <td>1106833</td>\n      <td>20102986</td>\n      <td>03/24/2011 12:00:00 AM</td>\n      <td>NaN</td>\n      <td>NONCONST</td>\n      <td>RESIDENTIAL BUILDING</td>\n      <td>11207.0</td>\n      <td>224 COVERT STREET</td>\n      <td>COVERT STREET</td>\n      <td>ADDRESS</td>\n      <td>BROOKLYN</td>\n      <td>Open</td>\n      <td>The following complaint conditions are still o...</td>\n      <td>BROOKLYN</td>\n      <td>40.69097</td>\n      <td>-73.907713</td>\n      <td>16</td>\n    </tr>\n    <tr>\n      <th>...</th>\n      <td>...</td>\n      <td>...</td>\n      <td>...</td>\n      <td>...</td>\n      <td>...</td>\n      <td>...</td>\n      <td>...</td>\n      <td>...</td>\n      <td>...</td>\n      <td>...</td>\n      <td>...</td>\n      <td>...</td>\n      <td>...</td>\n      <td>...</td>\n      <td>...</td>\n      <td>...</td>\n      <td>...</td>\n    </tr>\n    <tr>\n      <th>1201979</th>\n      <td>1201979</td>\n      <td>20532819</td>\n      <td>05/30/2011 12:00:00 AM</td>\n      <td>NaN</td>\n      <td>NONCONST</td>\n      <td>RESIDENTIAL BUILDING</td>\n      <td>11207.0</td>\n      <td>224 COVERT STREET</td>\n      <td>COVERT STREET</td>\n      <td>ADDRESS</td>\n      <td>BROOKLYN</td>\n      <td>Open</td>\n      <td>The following complaint conditions are still o...</td>\n      <td>BROOKLYN</td>\n      <td>40.69097</td>\n      <td>-73.907713</td>\n      <td>16</td>\n    </tr>\n    <tr>\n      <th>1202220</th>\n      <td>1202220</td>\n      <td>20533060</td>\n      <td>05/30/2011 12:00:00 AM</td>\n      <td>NaN</td>\n      <td>NONCONST</td>\n      <td>RESIDENTIAL BUILDING</td>\n      <td>11207.0</td>\n      <td>224 COVERT STREET</td>\n      <td>COVERT STREET</td>\n      <td>ADDRESS</td>\n      <td>BROOKLYN</td>\n      <td>Open</td>\n      <td>The following complaint conditions are still o...</td>\n      <td>BROOKLYN</td>\n      <td>40.69097</td>\n      <td>-73.907713</td>\n      <td>16</td>\n    </tr>\n    <tr>\n      <th>1214224</th>\n      <td>1214224</td>\n      <td>20603494</td>\n      <td>06/10/2011 12:00:00 AM</td>\n      <td>NaN</td>\n      <td>NONCONST</td>\n      <td>RESIDENTIAL BUILDING</td>\n      <td>11207.0</td>\n      <td>224 COVERT STREET</td>\n      <td>COVERT STREET</td>\n      <td>ADDRESS</td>\n      <td>BROOKLYN</td>\n      <td>Open</td>\n      <td>The following complaint conditions are still o...</td>\n      <td>BROOKLYN</td>\n      <td>40.69097</td>\n      <td>-73.907713</td>\n      <td>16</td>\n    </tr>\n    <tr>\n      <th>1214459</th>\n      <td>1214459</td>\n      <td>20603847</td>\n      <td>06/10/2011 12:00:00 AM</td>\n      <td>NaN</td>\n      <td>NONCONST</td>\n      <td>RESIDENTIAL BUILDING</td>\n      <td>11207.0</td>\n      <td>224 COVERT STREET</td>\n      <td>COVERT STREET</td>\n      <td>ADDRESS</td>\n      <td>BROOKLYN</td>\n      <td>Open</td>\n      <td>The following complaint conditions are still o...</td>\n      <td>BROOKLYN</td>\n      <td>40.69097</td>\n      <td>-73.907713</td>\n      <td>16</td>\n    </tr>\n    <tr>\n      <th>1215465</th>\n      <td>1215465</td>\n      <td>20604852</td>\n      <td>06/10/2011 12:00:00 AM</td>\n      <td>NaN</td>\n      <td>NONCONST</td>\n      <td>RESIDENTIAL BUILDING</td>\n      <td>11207.0</td>\n      <td>224 COVERT STREET</td>\n      <td>COVERT STREET</td>\n      <td>ADDRESS</td>\n      <td>BROOKLYN</td>\n      <td>Open</td>\n      <td>The following complaint conditions are still o...</td>\n      <td>BROOKLYN</td>\n      <td>40.69097</td>\n      <td>-73.907713</td>\n      <td>16</td>\n    </tr>\n  </tbody>\n</table>\n<p>81 rows × 17 columns</p>\n</div>"
     },
     "metadata": {},
     "execution_count": 21
    }
   ],
   "source": [
    "nconst_open[nconst_open['Incident Address'] == '224 COVERT STREET']"
   ]
  },
  {
   "cell_type": "markdown",
   "metadata": {},
   "source": [
    "## Heating"
   ]
  },
  {
   "cell_type": "code",
   "execution_count": 22,
   "metadata": {},
   "outputs": [],
   "source": [
    "heat_open = df_open[df_open['Complaint Type'] == 'HEATING']"
   ]
  },
  {
   "cell_type": "code",
   "execution_count": 23,
   "metadata": {},
   "outputs": [
    {
     "output_type": "execute_result",
     "data": {
      "text/plain": "320 BEACH 100 STREET         268\n644 RIVERSIDE DRIVE          157\n261 EAST KINGSBRIDGE ROAD    132\n45 BAY 19 STREET             110\n645 EAST 228 STREET          104\n                            ... \n1537 NOSTRAND AVENUE           1\n3475 KNOX PLACE                1\n164 AMBOY STREET               1\n1372 EAST 94 STREET            1\n901 WALTON AVENUE              1\nName: Incident Address, Length: 4430, dtype: int64"
     },
     "metadata": {},
     "execution_count": 23
    }
   ],
   "source": [
    "heat_open['Incident Address'].value_counts()"
   ]
  },
  {
   "cell_type": "code",
   "execution_count": 24,
   "metadata": {},
   "outputs": [
    {
     "output_type": "execute_result",
     "data": {
      "text/plain": "         Unnamed: 0  Unique Key            Created Date Closed Date  \\\n209853       209853    25010936  02/16/2013 12:00:00 AM         NaN   \n209886       209886    25012366  02/16/2013 12:00:00 AM         NaN   \n209933       209933    25016023  02/17/2013 12:00:00 AM         NaN   \n209968       209968    25018745  02/17/2013 12:00:00 AM         NaN   \n211649       211649    24969414  02/09/2013 12:00:00 AM         NaN   \n...             ...         ...                     ...         ...   \n2338457     2338457    25382845  04/17/2013 12:00:00 AM         NaN   \n2343088     2343088    25404339  04/22/2013 12:00:00 AM         NaN   \n2343310     2343310    25404854  04/22/2013 12:00:00 AM         NaN   \n2344772     2344772    25408163  04/22/2013 12:00:00 AM         NaN   \n2345883     2345883    25412435  04/23/2013 12:00:00 AM         NaN   \n\n        Complaint Type         Location Type  Incident Zip  \\\n209853         HEATING  RESIDENTIAL BUILDING           NaN   \n209886         HEATING  RESIDENTIAL BUILDING           NaN   \n209933         HEATING  RESIDENTIAL BUILDING           NaN   \n209968         HEATING  RESIDENTIAL BUILDING           NaN   \n211649         HEATING  RESIDENTIAL BUILDING           NaN   \n...                ...                   ...           ...   \n2338457        HEATING  RESIDENTIAL BUILDING       11694.0   \n2343088        HEATING  RESIDENTIAL BUILDING       11694.0   \n2343310        HEATING  RESIDENTIAL BUILDING       11694.0   \n2344772        HEATING  RESIDENTIAL BUILDING       11694.0   \n2345883        HEATING  RESIDENTIAL BUILDING       11694.0   \n\n             Incident Address       Street Name Address Type           City  \\\n209853   320 BEACH 100 STREET  BEACH 100 STREET          NaN            NaN   \n209886   320 BEACH 100 STREET  BEACH 100 STREET          NaN            NaN   \n209933   320 BEACH 100 STREET  BEACH 100 STREET          NaN            NaN   \n209968   320 BEACH 100 STREET  BEACH 100 STREET          NaN            NaN   \n211649   320 BEACH 100 STREET  BEACH 100 STREET          NaN            NaN   \n...                       ...               ...          ...            ...   \n2338457  320 BEACH 100 STREET  BEACH 100 STREET      ADDRESS  Rockaway Park   \n2343088  320 BEACH 100 STREET  BEACH 100 STREET      ADDRESS  Rockaway Park   \n2343310  320 BEACH 100 STREET  BEACH 100 STREET      ADDRESS  Rockaway Park   \n2344772  320 BEACH 100 STREET  BEACH 100 STREET      ADDRESS  Rockaway Park   \n2345883  320 BEACH 100 STREET  BEACH 100 STREET      ADDRESS  Rockaway Park   \n\n        Status                             Resolution Description Borough  \\\n209853    Open  More than one complaint was received for this ...  QUEENS   \n209886    Open  More than one complaint was received for this ...  QUEENS   \n209933    Open  More than one complaint was received for this ...  QUEENS   \n209968    Open  More than one complaint was received for this ...  QUEENS   \n211649    Open  More than one complaint was received for this ...  QUEENS   \n...        ...                                                ...     ...   \n2338457   Open  More than one complaint was received for this ...  QUEENS   \n2343088   Open  More than one complaint was received for this ...  QUEENS   \n2343310   Open  More than one complaint was received for this ...  QUEENS   \n2344772   Open  More than one complaint was received for this ...  QUEENS   \n2345883   Open  More than one complaint was received for this ...  QUEENS   \n\n          Latitude  Longitude  complaint_type  \n209853         NaN        NaN              13  \n209886         NaN        NaN              13  \n209933         NaN        NaN              13  \n209968         NaN        NaN              13  \n211649         NaN        NaN              13  \n...            ...        ...             ...  \n2338457  40.585445 -73.822096              13  \n2343088  40.585445 -73.822096              13  \n2343310  40.585445 -73.822096              13  \n2344772  40.585445 -73.822096              13  \n2345883  40.585445 -73.822096              13  \n\n[268 rows x 17 columns]",
      "text/html": "<div>\n<style scoped>\n    .dataframe tbody tr th:only-of-type {\n        vertical-align: middle;\n    }\n\n    .dataframe tbody tr th {\n        vertical-align: top;\n    }\n\n    .dataframe thead th {\n        text-align: right;\n    }\n</style>\n<table border=\"1\" class=\"dataframe\">\n  <thead>\n    <tr style=\"text-align: right;\">\n      <th></th>\n      <th>Unnamed: 0</th>\n      <th>Unique Key</th>\n      <th>Created Date</th>\n      <th>Closed Date</th>\n      <th>Complaint Type</th>\n      <th>Location Type</th>\n      <th>Incident Zip</th>\n      <th>Incident Address</th>\n      <th>Street Name</th>\n      <th>Address Type</th>\n      <th>City</th>\n      <th>Status</th>\n      <th>Resolution Description</th>\n      <th>Borough</th>\n      <th>Latitude</th>\n      <th>Longitude</th>\n      <th>complaint_type</th>\n    </tr>\n  </thead>\n  <tbody>\n    <tr>\n      <th>209853</th>\n      <td>209853</td>\n      <td>25010936</td>\n      <td>02/16/2013 12:00:00 AM</td>\n      <td>NaN</td>\n      <td>HEATING</td>\n      <td>RESIDENTIAL BUILDING</td>\n      <td>NaN</td>\n      <td>320 BEACH 100 STREET</td>\n      <td>BEACH 100 STREET</td>\n      <td>NaN</td>\n      <td>NaN</td>\n      <td>Open</td>\n      <td>More than one complaint was received for this ...</td>\n      <td>QUEENS</td>\n      <td>NaN</td>\n      <td>NaN</td>\n      <td>13</td>\n    </tr>\n    <tr>\n      <th>209886</th>\n      <td>209886</td>\n      <td>25012366</td>\n      <td>02/16/2013 12:00:00 AM</td>\n      <td>NaN</td>\n      <td>HEATING</td>\n      <td>RESIDENTIAL BUILDING</td>\n      <td>NaN</td>\n      <td>320 BEACH 100 STREET</td>\n      <td>BEACH 100 STREET</td>\n      <td>NaN</td>\n      <td>NaN</td>\n      <td>Open</td>\n      <td>More than one complaint was received for this ...</td>\n      <td>QUEENS</td>\n      <td>NaN</td>\n      <td>NaN</td>\n      <td>13</td>\n    </tr>\n    <tr>\n      <th>209933</th>\n      <td>209933</td>\n      <td>25016023</td>\n      <td>02/17/2013 12:00:00 AM</td>\n      <td>NaN</td>\n      <td>HEATING</td>\n      <td>RESIDENTIAL BUILDING</td>\n      <td>NaN</td>\n      <td>320 BEACH 100 STREET</td>\n      <td>BEACH 100 STREET</td>\n      <td>NaN</td>\n      <td>NaN</td>\n      <td>Open</td>\n      <td>More than one complaint was received for this ...</td>\n      <td>QUEENS</td>\n      <td>NaN</td>\n      <td>NaN</td>\n      <td>13</td>\n    </tr>\n    <tr>\n      <th>209968</th>\n      <td>209968</td>\n      <td>25018745</td>\n      <td>02/17/2013 12:00:00 AM</td>\n      <td>NaN</td>\n      <td>HEATING</td>\n      <td>RESIDENTIAL BUILDING</td>\n      <td>NaN</td>\n      <td>320 BEACH 100 STREET</td>\n      <td>BEACH 100 STREET</td>\n      <td>NaN</td>\n      <td>NaN</td>\n      <td>Open</td>\n      <td>More than one complaint was received for this ...</td>\n      <td>QUEENS</td>\n      <td>NaN</td>\n      <td>NaN</td>\n      <td>13</td>\n    </tr>\n    <tr>\n      <th>211649</th>\n      <td>211649</td>\n      <td>24969414</td>\n      <td>02/09/2013 12:00:00 AM</td>\n      <td>NaN</td>\n      <td>HEATING</td>\n      <td>RESIDENTIAL BUILDING</td>\n      <td>NaN</td>\n      <td>320 BEACH 100 STREET</td>\n      <td>BEACH 100 STREET</td>\n      <td>NaN</td>\n      <td>NaN</td>\n      <td>Open</td>\n      <td>More than one complaint was received for this ...</td>\n      <td>QUEENS</td>\n      <td>NaN</td>\n      <td>NaN</td>\n      <td>13</td>\n    </tr>\n    <tr>\n      <th>...</th>\n      <td>...</td>\n      <td>...</td>\n      <td>...</td>\n      <td>...</td>\n      <td>...</td>\n      <td>...</td>\n      <td>...</td>\n      <td>...</td>\n      <td>...</td>\n      <td>...</td>\n      <td>...</td>\n      <td>...</td>\n      <td>...</td>\n      <td>...</td>\n      <td>...</td>\n      <td>...</td>\n      <td>...</td>\n    </tr>\n    <tr>\n      <th>2338457</th>\n      <td>2338457</td>\n      <td>25382845</td>\n      <td>04/17/2013 12:00:00 AM</td>\n      <td>NaN</td>\n      <td>HEATING</td>\n      <td>RESIDENTIAL BUILDING</td>\n      <td>11694.0</td>\n      <td>320 BEACH 100 STREET</td>\n      <td>BEACH 100 STREET</td>\n      <td>ADDRESS</td>\n      <td>Rockaway Park</td>\n      <td>Open</td>\n      <td>More than one complaint was received for this ...</td>\n      <td>QUEENS</td>\n      <td>40.585445</td>\n      <td>-73.822096</td>\n      <td>13</td>\n    </tr>\n    <tr>\n      <th>2343088</th>\n      <td>2343088</td>\n      <td>25404339</td>\n      <td>04/22/2013 12:00:00 AM</td>\n      <td>NaN</td>\n      <td>HEATING</td>\n      <td>RESIDENTIAL BUILDING</td>\n      <td>11694.0</td>\n      <td>320 BEACH 100 STREET</td>\n      <td>BEACH 100 STREET</td>\n      <td>ADDRESS</td>\n      <td>Rockaway Park</td>\n      <td>Open</td>\n      <td>More than one complaint was received for this ...</td>\n      <td>QUEENS</td>\n      <td>40.585445</td>\n      <td>-73.822096</td>\n      <td>13</td>\n    </tr>\n    <tr>\n      <th>2343310</th>\n      <td>2343310</td>\n      <td>25404854</td>\n      <td>04/22/2013 12:00:00 AM</td>\n      <td>NaN</td>\n      <td>HEATING</td>\n      <td>RESIDENTIAL BUILDING</td>\n      <td>11694.0</td>\n      <td>320 BEACH 100 STREET</td>\n      <td>BEACH 100 STREET</td>\n      <td>ADDRESS</td>\n      <td>Rockaway Park</td>\n      <td>Open</td>\n      <td>More than one complaint was received for this ...</td>\n      <td>QUEENS</td>\n      <td>40.585445</td>\n      <td>-73.822096</td>\n      <td>13</td>\n    </tr>\n    <tr>\n      <th>2344772</th>\n      <td>2344772</td>\n      <td>25408163</td>\n      <td>04/22/2013 12:00:00 AM</td>\n      <td>NaN</td>\n      <td>HEATING</td>\n      <td>RESIDENTIAL BUILDING</td>\n      <td>11694.0</td>\n      <td>320 BEACH 100 STREET</td>\n      <td>BEACH 100 STREET</td>\n      <td>ADDRESS</td>\n      <td>Rockaway Park</td>\n      <td>Open</td>\n      <td>More than one complaint was received for this ...</td>\n      <td>QUEENS</td>\n      <td>40.585445</td>\n      <td>-73.822096</td>\n      <td>13</td>\n    </tr>\n    <tr>\n      <th>2345883</th>\n      <td>2345883</td>\n      <td>25412435</td>\n      <td>04/23/2013 12:00:00 AM</td>\n      <td>NaN</td>\n      <td>HEATING</td>\n      <td>RESIDENTIAL BUILDING</td>\n      <td>11694.0</td>\n      <td>320 BEACH 100 STREET</td>\n      <td>BEACH 100 STREET</td>\n      <td>ADDRESS</td>\n      <td>Rockaway Park</td>\n      <td>Open</td>\n      <td>More than one complaint was received for this ...</td>\n      <td>QUEENS</td>\n      <td>40.585445</td>\n      <td>-73.822096</td>\n      <td>13</td>\n    </tr>\n  </tbody>\n</table>\n<p>268 rows × 17 columns</p>\n</div>"
     },
     "metadata": {},
     "execution_count": 24
    }
   ],
   "source": [
    "heat_open[heat_open['Incident Address'] == '320 BEACH 100 STREET']"
   ]
  },
  {
   "cell_type": "markdown",
   "metadata": {},
   "source": [
    "## Heat/Hot Water"
   ]
  },
  {
   "cell_type": "code",
   "execution_count": 25,
   "metadata": {},
   "outputs": [],
   "source": [
    "hhw_open = df_open[df_open['Complaint Type'] == 'HEAT/HOT WATER']"
   ]
  },
  {
   "cell_type": "code",
   "execution_count": 26,
   "metadata": {},
   "outputs": [
    {
     "output_type": "execute_result",
     "data": {
      "text/plain": "374 EAST   49 STREET    244\n3601 BROADWAY           122\n2425 NOSTRAND AVENUE     96\n79-11 41 AVENUE          89\n165 SHERMAN AVENUE       80\n                       ... \n1860 HOBART AVENUE        1\n2200 POWELL AVENUE        1\n432 WYONA STREET          1\n31-83 30 STREET           1\n17 NEW YORK AVENUE        1\nName: Incident Address, Length: 1250, dtype: int64"
     },
     "metadata": {},
     "execution_count": 26
    }
   ],
   "source": [
    "hhw_open['Incident Address'].value_counts()"
   ]
  },
  {
   "cell_type": "code",
   "execution_count": 27,
   "metadata": {},
   "outputs": [
    {
     "output_type": "execute_result",
     "data": {
      "text/plain": "         Unnamed: 0  Unique Key            Created Date Closed Date  \\\n4317250     4317250    34316826  09/14/2016 08:00:51 AM         NaN   \n4319191     4319191    34329632  09/15/2016 08:02:27 AM         NaN   \n4321051     4321051    34345551  09/17/2016 08:30:32 AM         NaN   \n4322638     4322638    34359651  09/19/2016 08:05:41 AM         NaN   \n4323196     4323196    34368494  09/20/2016 07:53:57 AM         NaN   \n...             ...         ...                     ...         ...   \n5348492     5348492    39256156  05/22/2018 06:25:02 AM         NaN   \n5349695     5349695    39265309  05/23/2018 06:30:03 AM         NaN   \n5355477     5355477    39320377  05/29/2018 06:34:38 AM         NaN   \n5517919     5517919    40538428  10/13/2018 05:34:17 AM         NaN   \n5909057     5909057    42400944  04/25/2019 08:50:56 PM         NaN   \n\n         Complaint Type         Location Type  Incident Zip  \\\n4317250  HEAT/HOT WATER  RESIDENTIAL BUILDING       11203.0   \n4319191  HEAT/HOT WATER  RESIDENTIAL BUILDING       11203.0   \n4321051  HEAT/HOT WATER  RESIDENTIAL BUILDING       11203.0   \n4322638  HEAT/HOT WATER  RESIDENTIAL BUILDING       11203.0   \n4323196  HEAT/HOT WATER  RESIDENTIAL BUILDING       11203.0   \n...                 ...                   ...           ...   \n5348492  HEAT/HOT WATER  RESIDENTIAL BUILDING       11203.0   \n5349695  HEAT/HOT WATER  RESIDENTIAL BUILDING       11203.0   \n5355477  HEAT/HOT WATER  RESIDENTIAL BUILDING       11203.0   \n5517919  HEAT/HOT WATER  RESIDENTIAL BUILDING       11203.0   \n5909057  HEAT/HOT WATER  RESIDENTIAL BUILDING       11203.0   \n\n             Incident Address       Street Name Address Type      City Status  \\\n4317250  374 EAST   49 STREET  EAST   49 STREET      ADDRESS  BROOKLYN   Open   \n4319191  374 EAST   49 STREET  EAST   49 STREET      ADDRESS  BROOKLYN   Open   \n4321051  374 EAST   49 STREET  EAST   49 STREET      ADDRESS  BROOKLYN   Open   \n4322638  374 EAST   49 STREET  EAST   49 STREET      ADDRESS  BROOKLYN   Open   \n4323196  374 EAST   49 STREET  EAST   49 STREET      ADDRESS  BROOKLYN   Open   \n...                       ...               ...          ...       ...    ...   \n5348492  374 EAST   49 STREET  EAST   49 STREET      ADDRESS  BROOKLYN   Open   \n5349695  374 EAST   49 STREET  EAST   49 STREET      ADDRESS  BROOKLYN   Open   \n5355477  374 EAST   49 STREET  EAST   49 STREET      ADDRESS  BROOKLYN   Open   \n5517919  374 EAST   49 STREET  EAST   49 STREET      ADDRESS  BROOKLYN   Open   \n5909057  374 EAST   49 STREET  EAST   49 STREET      ADDRESS  BROOKLYN   Open   \n\n                                    Resolution Description   Borough  \\\n4317250  The following complaint conditions are still o...  BROOKLYN   \n4319191  The complaint you filed is a duplicate of a co...  BROOKLYN   \n4321051  The complaint you filed is a duplicate of a co...  BROOKLYN   \n4322638  The complaint you filed is a duplicate of a co...  BROOKLYN   \n4323196  The complaint you filed is a duplicate of a co...  BROOKLYN   \n...                                                    ...       ...   \n5348492  The complaint you filed is a duplicate of a co...  BROOKLYN   \n5349695  The complaint you filed is a duplicate of a co...  BROOKLYN   \n5355477  The complaint you filed is a duplicate of a co...  BROOKLYN   \n5517919  The complaint you filed is a duplicate of a co...  BROOKLYN   \n5909057  The complaint you filed is a duplicate of a co...  BROOKLYN   \n\n          Latitude  Longitude  complaint_type  \n4317250  40.652807 -73.931519              12  \n4319191  40.652807 -73.931519              12  \n4321051  40.652807 -73.931519              12  \n4322638  40.652807 -73.931519              12  \n4323196  40.652807 -73.931519              12  \n...            ...        ...             ...  \n5348492  40.652807 -73.931519              12  \n5349695  40.652807 -73.931519              12  \n5355477  40.652807 -73.931519              12  \n5517919  40.652807 -73.931519              12  \n5909057  40.652807 -73.931519              12  \n\n[244 rows x 17 columns]",
      "text/html": "<div>\n<style scoped>\n    .dataframe tbody tr th:only-of-type {\n        vertical-align: middle;\n    }\n\n    .dataframe tbody tr th {\n        vertical-align: top;\n    }\n\n    .dataframe thead th {\n        text-align: right;\n    }\n</style>\n<table border=\"1\" class=\"dataframe\">\n  <thead>\n    <tr style=\"text-align: right;\">\n      <th></th>\n      <th>Unnamed: 0</th>\n      <th>Unique Key</th>\n      <th>Created Date</th>\n      <th>Closed Date</th>\n      <th>Complaint Type</th>\n      <th>Location Type</th>\n      <th>Incident Zip</th>\n      <th>Incident Address</th>\n      <th>Street Name</th>\n      <th>Address Type</th>\n      <th>City</th>\n      <th>Status</th>\n      <th>Resolution Description</th>\n      <th>Borough</th>\n      <th>Latitude</th>\n      <th>Longitude</th>\n      <th>complaint_type</th>\n    </tr>\n  </thead>\n  <tbody>\n    <tr>\n      <th>4317250</th>\n      <td>4317250</td>\n      <td>34316826</td>\n      <td>09/14/2016 08:00:51 AM</td>\n      <td>NaN</td>\n      <td>HEAT/HOT WATER</td>\n      <td>RESIDENTIAL BUILDING</td>\n      <td>11203.0</td>\n      <td>374 EAST   49 STREET</td>\n      <td>EAST   49 STREET</td>\n      <td>ADDRESS</td>\n      <td>BROOKLYN</td>\n      <td>Open</td>\n      <td>The following complaint conditions are still o...</td>\n      <td>BROOKLYN</td>\n      <td>40.652807</td>\n      <td>-73.931519</td>\n      <td>12</td>\n    </tr>\n    <tr>\n      <th>4319191</th>\n      <td>4319191</td>\n      <td>34329632</td>\n      <td>09/15/2016 08:02:27 AM</td>\n      <td>NaN</td>\n      <td>HEAT/HOT WATER</td>\n      <td>RESIDENTIAL BUILDING</td>\n      <td>11203.0</td>\n      <td>374 EAST   49 STREET</td>\n      <td>EAST   49 STREET</td>\n      <td>ADDRESS</td>\n      <td>BROOKLYN</td>\n      <td>Open</td>\n      <td>The complaint you filed is a duplicate of a co...</td>\n      <td>BROOKLYN</td>\n      <td>40.652807</td>\n      <td>-73.931519</td>\n      <td>12</td>\n    </tr>\n    <tr>\n      <th>4321051</th>\n      <td>4321051</td>\n      <td>34345551</td>\n      <td>09/17/2016 08:30:32 AM</td>\n      <td>NaN</td>\n      <td>HEAT/HOT WATER</td>\n      <td>RESIDENTIAL BUILDING</td>\n      <td>11203.0</td>\n      <td>374 EAST   49 STREET</td>\n      <td>EAST   49 STREET</td>\n      <td>ADDRESS</td>\n      <td>BROOKLYN</td>\n      <td>Open</td>\n      <td>The complaint you filed is a duplicate of a co...</td>\n      <td>BROOKLYN</td>\n      <td>40.652807</td>\n      <td>-73.931519</td>\n      <td>12</td>\n    </tr>\n    <tr>\n      <th>4322638</th>\n      <td>4322638</td>\n      <td>34359651</td>\n      <td>09/19/2016 08:05:41 AM</td>\n      <td>NaN</td>\n      <td>HEAT/HOT WATER</td>\n      <td>RESIDENTIAL BUILDING</td>\n      <td>11203.0</td>\n      <td>374 EAST   49 STREET</td>\n      <td>EAST   49 STREET</td>\n      <td>ADDRESS</td>\n      <td>BROOKLYN</td>\n      <td>Open</td>\n      <td>The complaint you filed is a duplicate of a co...</td>\n      <td>BROOKLYN</td>\n      <td>40.652807</td>\n      <td>-73.931519</td>\n      <td>12</td>\n    </tr>\n    <tr>\n      <th>4323196</th>\n      <td>4323196</td>\n      <td>34368494</td>\n      <td>09/20/2016 07:53:57 AM</td>\n      <td>NaN</td>\n      <td>HEAT/HOT WATER</td>\n      <td>RESIDENTIAL BUILDING</td>\n      <td>11203.0</td>\n      <td>374 EAST   49 STREET</td>\n      <td>EAST   49 STREET</td>\n      <td>ADDRESS</td>\n      <td>BROOKLYN</td>\n      <td>Open</td>\n      <td>The complaint you filed is a duplicate of a co...</td>\n      <td>BROOKLYN</td>\n      <td>40.652807</td>\n      <td>-73.931519</td>\n      <td>12</td>\n    </tr>\n    <tr>\n      <th>...</th>\n      <td>...</td>\n      <td>...</td>\n      <td>...</td>\n      <td>...</td>\n      <td>...</td>\n      <td>...</td>\n      <td>...</td>\n      <td>...</td>\n      <td>...</td>\n      <td>...</td>\n      <td>...</td>\n      <td>...</td>\n      <td>...</td>\n      <td>...</td>\n      <td>...</td>\n      <td>...</td>\n      <td>...</td>\n    </tr>\n    <tr>\n      <th>5348492</th>\n      <td>5348492</td>\n      <td>39256156</td>\n      <td>05/22/2018 06:25:02 AM</td>\n      <td>NaN</td>\n      <td>HEAT/HOT WATER</td>\n      <td>RESIDENTIAL BUILDING</td>\n      <td>11203.0</td>\n      <td>374 EAST   49 STREET</td>\n      <td>EAST   49 STREET</td>\n      <td>ADDRESS</td>\n      <td>BROOKLYN</td>\n      <td>Open</td>\n      <td>The complaint you filed is a duplicate of a co...</td>\n      <td>BROOKLYN</td>\n      <td>40.652807</td>\n      <td>-73.931519</td>\n      <td>12</td>\n    </tr>\n    <tr>\n      <th>5349695</th>\n      <td>5349695</td>\n      <td>39265309</td>\n      <td>05/23/2018 06:30:03 AM</td>\n      <td>NaN</td>\n      <td>HEAT/HOT WATER</td>\n      <td>RESIDENTIAL BUILDING</td>\n      <td>11203.0</td>\n      <td>374 EAST   49 STREET</td>\n      <td>EAST   49 STREET</td>\n      <td>ADDRESS</td>\n      <td>BROOKLYN</td>\n      <td>Open</td>\n      <td>The complaint you filed is a duplicate of a co...</td>\n      <td>BROOKLYN</td>\n      <td>40.652807</td>\n      <td>-73.931519</td>\n      <td>12</td>\n    </tr>\n    <tr>\n      <th>5355477</th>\n      <td>5355477</td>\n      <td>39320377</td>\n      <td>05/29/2018 06:34:38 AM</td>\n      <td>NaN</td>\n      <td>HEAT/HOT WATER</td>\n      <td>RESIDENTIAL BUILDING</td>\n      <td>11203.0</td>\n      <td>374 EAST   49 STREET</td>\n      <td>EAST   49 STREET</td>\n      <td>ADDRESS</td>\n      <td>BROOKLYN</td>\n      <td>Open</td>\n      <td>The complaint you filed is a duplicate of a co...</td>\n      <td>BROOKLYN</td>\n      <td>40.652807</td>\n      <td>-73.931519</td>\n      <td>12</td>\n    </tr>\n    <tr>\n      <th>5517919</th>\n      <td>5517919</td>\n      <td>40538428</td>\n      <td>10/13/2018 05:34:17 AM</td>\n      <td>NaN</td>\n      <td>HEAT/HOT WATER</td>\n      <td>RESIDENTIAL BUILDING</td>\n      <td>11203.0</td>\n      <td>374 EAST   49 STREET</td>\n      <td>EAST   49 STREET</td>\n      <td>ADDRESS</td>\n      <td>BROOKLYN</td>\n      <td>Open</td>\n      <td>The complaint you filed is a duplicate of a co...</td>\n      <td>BROOKLYN</td>\n      <td>40.652807</td>\n      <td>-73.931519</td>\n      <td>12</td>\n    </tr>\n    <tr>\n      <th>5909057</th>\n      <td>5909057</td>\n      <td>42400944</td>\n      <td>04/25/2019 08:50:56 PM</td>\n      <td>NaN</td>\n      <td>HEAT/HOT WATER</td>\n      <td>RESIDENTIAL BUILDING</td>\n      <td>11203.0</td>\n      <td>374 EAST   49 STREET</td>\n      <td>EAST   49 STREET</td>\n      <td>ADDRESS</td>\n      <td>BROOKLYN</td>\n      <td>Open</td>\n      <td>The complaint you filed is a duplicate of a co...</td>\n      <td>BROOKLYN</td>\n      <td>40.652807</td>\n      <td>-73.931519</td>\n      <td>12</td>\n    </tr>\n  </tbody>\n</table>\n<p>244 rows × 17 columns</p>\n</div>"
     },
     "metadata": {},
     "execution_count": 27
    }
   ],
   "source": [
    "hhw_open[hhw_open['Incident Address'] == '374 EAST   49 STREET']\n",
    "\n",
    "# This complaint have 244 counts and seems like the first thing to take action especially on winter season.\n",
    "# However, based on the resolution description, most of them are duplicates of the previous complaints"
   ]
  },
  {
   "cell_type": "code",
   "execution_count": 28,
   "metadata": {},
   "outputs": [
    {
     "output_type": "execute_result",
     "data": {
      "text/plain": "         Unnamed: 0  Unique Key            Created Date Closed Date  \\\n234437       234437    40937911  11/14/2018 12:56:20 AM         NaN   \n238503       238503    40940450  11/15/2018 10:02:31 PM         NaN   \n238537       238537    40941917  11/15/2018 02:34:23 PM         NaN   \n238614       238614    40949028  11/15/2018 12:09:36 PM         NaN   \n242364       242364    41643133  02/02/2019 03:15:30 AM         NaN   \n...             ...         ...                     ...         ...   \n5778147     5778147    41697878  02/13/2019 11:26:56 PM         NaN   \n5778160     5778160    41697891  02/11/2019 11:06:25 PM         NaN   \n5779528     5779528    41700211  02/08/2019 02:22:01 AM         NaN   \n5782096     5782096    41704452  02/14/2019 01:22:34 AM         NaN   \n5784619     5784619    41708566  02/11/2019 12:17:25 PM         NaN   \n\n         Complaint Type         Location Type  Incident Zip Incident Address  \\\n234437   HEAT/HOT WATER  RESIDENTIAL BUILDING           NaN    3601 BROADWAY   \n238503   HEAT/HOT WATER  RESIDENTIAL BUILDING           NaN    3601 BROADWAY   \n238537   HEAT/HOT WATER  RESIDENTIAL BUILDING           NaN    3601 BROADWAY   \n238614   HEAT/HOT WATER  RESIDENTIAL BUILDING           NaN    3601 BROADWAY   \n242364   HEAT/HOT WATER  RESIDENTIAL BUILDING           NaN    3601 BROADWAY   \n...                 ...                   ...           ...              ...   \n5778147  HEAT/HOT WATER  RESIDENTIAL BUILDING       10031.0    3601 BROADWAY   \n5778160  HEAT/HOT WATER  RESIDENTIAL BUILDING       10031.0    3601 BROADWAY   \n5779528  HEAT/HOT WATER  RESIDENTIAL BUILDING       10031.0    3601 BROADWAY   \n5782096  HEAT/HOT WATER  RESIDENTIAL BUILDING       10031.0    3601 BROADWAY   \n5784619  HEAT/HOT WATER  RESIDENTIAL BUILDING       10031.0    3601 BROADWAY   \n\n        Street Name Address Type      City Status  \\\n234437     BROADWAY          NaN       NaN   Open   \n238503     BROADWAY          NaN       NaN   Open   \n238537     BROADWAY          NaN       NaN   Open   \n238614     BROADWAY          NaN       NaN   Open   \n242364     BROADWAY          NaN       NaN   Open   \n...             ...          ...       ...    ...   \n5778147    BROADWAY      ADDRESS  NEW YORK   Open   \n5778160    BROADWAY      ADDRESS  NEW YORK   Open   \n5779528    BROADWAY      ADDRESS  NEW YORK   Open   \n5782096    BROADWAY      ADDRESS  NEW YORK   Open   \n5784619    BROADWAY      ADDRESS  NEW YORK   Open   \n\n                                    Resolution Description    Borough  \\\n234437   The complaint you filed is a duplicate of a co...  MANHATTAN   \n238503   The complaint you filed is a duplicate of a co...  MANHATTAN   \n238537   The complaint you filed is a duplicate of a co...  MANHATTAN   \n238614   The complaint you filed is a duplicate of a co...  MANHATTAN   \n242364   The complaint you filed is a duplicate of a co...  MANHATTAN   \n...                                                    ...        ...   \n5778147  The complaint you filed is a duplicate of a co...  MANHATTAN   \n5778160  The complaint you filed is a duplicate of a co...  MANHATTAN   \n5779528  The complaint you filed is a duplicate of a co...  MANHATTAN   \n5782096  The complaint you filed is a duplicate of a co...  MANHATTAN   \n5784619  The complaint you filed is a duplicate of a co...  MANHATTAN   \n\n          Latitude  Longitude  complaint_type  \n234437         NaN        NaN              12  \n238503         NaN        NaN              12  \n238537         NaN        NaN              12  \n238614         NaN        NaN              12  \n242364         NaN        NaN              12  \n...            ...        ...             ...  \n5778147  40.828447 -73.948993              12  \n5778160  40.828447 -73.948993              12  \n5779528  40.828447 -73.948993              12  \n5782096  40.828447 -73.948993              12  \n5784619  40.828447 -73.948993              12  \n\n[122 rows x 17 columns]",
      "text/html": "<div>\n<style scoped>\n    .dataframe tbody tr th:only-of-type {\n        vertical-align: middle;\n    }\n\n    .dataframe tbody tr th {\n        vertical-align: top;\n    }\n\n    .dataframe thead th {\n        text-align: right;\n    }\n</style>\n<table border=\"1\" class=\"dataframe\">\n  <thead>\n    <tr style=\"text-align: right;\">\n      <th></th>\n      <th>Unnamed: 0</th>\n      <th>Unique Key</th>\n      <th>Created Date</th>\n      <th>Closed Date</th>\n      <th>Complaint Type</th>\n      <th>Location Type</th>\n      <th>Incident Zip</th>\n      <th>Incident Address</th>\n      <th>Street Name</th>\n      <th>Address Type</th>\n      <th>City</th>\n      <th>Status</th>\n      <th>Resolution Description</th>\n      <th>Borough</th>\n      <th>Latitude</th>\n      <th>Longitude</th>\n      <th>complaint_type</th>\n    </tr>\n  </thead>\n  <tbody>\n    <tr>\n      <th>234437</th>\n      <td>234437</td>\n      <td>40937911</td>\n      <td>11/14/2018 12:56:20 AM</td>\n      <td>NaN</td>\n      <td>HEAT/HOT WATER</td>\n      <td>RESIDENTIAL BUILDING</td>\n      <td>NaN</td>\n      <td>3601 BROADWAY</td>\n      <td>BROADWAY</td>\n      <td>NaN</td>\n      <td>NaN</td>\n      <td>Open</td>\n      <td>The complaint you filed is a duplicate of a co...</td>\n      <td>MANHATTAN</td>\n      <td>NaN</td>\n      <td>NaN</td>\n      <td>12</td>\n    </tr>\n    <tr>\n      <th>238503</th>\n      <td>238503</td>\n      <td>40940450</td>\n      <td>11/15/2018 10:02:31 PM</td>\n      <td>NaN</td>\n      <td>HEAT/HOT WATER</td>\n      <td>RESIDENTIAL BUILDING</td>\n      <td>NaN</td>\n      <td>3601 BROADWAY</td>\n      <td>BROADWAY</td>\n      <td>NaN</td>\n      <td>NaN</td>\n      <td>Open</td>\n      <td>The complaint you filed is a duplicate of a co...</td>\n      <td>MANHATTAN</td>\n      <td>NaN</td>\n      <td>NaN</td>\n      <td>12</td>\n    </tr>\n    <tr>\n      <th>238537</th>\n      <td>238537</td>\n      <td>40941917</td>\n      <td>11/15/2018 02:34:23 PM</td>\n      <td>NaN</td>\n      <td>HEAT/HOT WATER</td>\n      <td>RESIDENTIAL BUILDING</td>\n      <td>NaN</td>\n      <td>3601 BROADWAY</td>\n      <td>BROADWAY</td>\n      <td>NaN</td>\n      <td>NaN</td>\n      <td>Open</td>\n      <td>The complaint you filed is a duplicate of a co...</td>\n      <td>MANHATTAN</td>\n      <td>NaN</td>\n      <td>NaN</td>\n      <td>12</td>\n    </tr>\n    <tr>\n      <th>238614</th>\n      <td>238614</td>\n      <td>40949028</td>\n      <td>11/15/2018 12:09:36 PM</td>\n      <td>NaN</td>\n      <td>HEAT/HOT WATER</td>\n      <td>RESIDENTIAL BUILDING</td>\n      <td>NaN</td>\n      <td>3601 BROADWAY</td>\n      <td>BROADWAY</td>\n      <td>NaN</td>\n      <td>NaN</td>\n      <td>Open</td>\n      <td>The complaint you filed is a duplicate of a co...</td>\n      <td>MANHATTAN</td>\n      <td>NaN</td>\n      <td>NaN</td>\n      <td>12</td>\n    </tr>\n    <tr>\n      <th>242364</th>\n      <td>242364</td>\n      <td>41643133</td>\n      <td>02/02/2019 03:15:30 AM</td>\n      <td>NaN</td>\n      <td>HEAT/HOT WATER</td>\n      <td>RESIDENTIAL BUILDING</td>\n      <td>NaN</td>\n      <td>3601 BROADWAY</td>\n      <td>BROADWAY</td>\n      <td>NaN</td>\n      <td>NaN</td>\n      <td>Open</td>\n      <td>The complaint you filed is a duplicate of a co...</td>\n      <td>MANHATTAN</td>\n      <td>NaN</td>\n      <td>NaN</td>\n      <td>12</td>\n    </tr>\n    <tr>\n      <th>...</th>\n      <td>...</td>\n      <td>...</td>\n      <td>...</td>\n      <td>...</td>\n      <td>...</td>\n      <td>...</td>\n      <td>...</td>\n      <td>...</td>\n      <td>...</td>\n      <td>...</td>\n      <td>...</td>\n      <td>...</td>\n      <td>...</td>\n      <td>...</td>\n      <td>...</td>\n      <td>...</td>\n      <td>...</td>\n    </tr>\n    <tr>\n      <th>5778147</th>\n      <td>5778147</td>\n      <td>41697878</td>\n      <td>02/13/2019 11:26:56 PM</td>\n      <td>NaN</td>\n      <td>HEAT/HOT WATER</td>\n      <td>RESIDENTIAL BUILDING</td>\n      <td>10031.0</td>\n      <td>3601 BROADWAY</td>\n      <td>BROADWAY</td>\n      <td>ADDRESS</td>\n      <td>NEW YORK</td>\n      <td>Open</td>\n      <td>The complaint you filed is a duplicate of a co...</td>\n      <td>MANHATTAN</td>\n      <td>40.828447</td>\n      <td>-73.948993</td>\n      <td>12</td>\n    </tr>\n    <tr>\n      <th>5778160</th>\n      <td>5778160</td>\n      <td>41697891</td>\n      <td>02/11/2019 11:06:25 PM</td>\n      <td>NaN</td>\n      <td>HEAT/HOT WATER</td>\n      <td>RESIDENTIAL BUILDING</td>\n      <td>10031.0</td>\n      <td>3601 BROADWAY</td>\n      <td>BROADWAY</td>\n      <td>ADDRESS</td>\n      <td>NEW YORK</td>\n      <td>Open</td>\n      <td>The complaint you filed is a duplicate of a co...</td>\n      <td>MANHATTAN</td>\n      <td>40.828447</td>\n      <td>-73.948993</td>\n      <td>12</td>\n    </tr>\n    <tr>\n      <th>5779528</th>\n      <td>5779528</td>\n      <td>41700211</td>\n      <td>02/08/2019 02:22:01 AM</td>\n      <td>NaN</td>\n      <td>HEAT/HOT WATER</td>\n      <td>RESIDENTIAL BUILDING</td>\n      <td>10031.0</td>\n      <td>3601 BROADWAY</td>\n      <td>BROADWAY</td>\n      <td>ADDRESS</td>\n      <td>NEW YORK</td>\n      <td>Open</td>\n      <td>The complaint you filed is a duplicate of a co...</td>\n      <td>MANHATTAN</td>\n      <td>40.828447</td>\n      <td>-73.948993</td>\n      <td>12</td>\n    </tr>\n    <tr>\n      <th>5782096</th>\n      <td>5782096</td>\n      <td>41704452</td>\n      <td>02/14/2019 01:22:34 AM</td>\n      <td>NaN</td>\n      <td>HEAT/HOT WATER</td>\n      <td>RESIDENTIAL BUILDING</td>\n      <td>10031.0</td>\n      <td>3601 BROADWAY</td>\n      <td>BROADWAY</td>\n      <td>ADDRESS</td>\n      <td>NEW YORK</td>\n      <td>Open</td>\n      <td>The complaint you filed is a duplicate of a co...</td>\n      <td>MANHATTAN</td>\n      <td>40.828447</td>\n      <td>-73.948993</td>\n      <td>12</td>\n    </tr>\n    <tr>\n      <th>5784619</th>\n      <td>5784619</td>\n      <td>41708566</td>\n      <td>02/11/2019 12:17:25 PM</td>\n      <td>NaN</td>\n      <td>HEAT/HOT WATER</td>\n      <td>RESIDENTIAL BUILDING</td>\n      <td>10031.0</td>\n      <td>3601 BROADWAY</td>\n      <td>BROADWAY</td>\n      <td>ADDRESS</td>\n      <td>NEW YORK</td>\n      <td>Open</td>\n      <td>The complaint you filed is a duplicate of a co...</td>\n      <td>MANHATTAN</td>\n      <td>40.828447</td>\n      <td>-73.948993</td>\n      <td>12</td>\n    </tr>\n  </tbody>\n</table>\n<p>122 rows × 17 columns</p>\n</div>"
     },
     "metadata": {},
     "execution_count": 28
    }
   ],
   "source": [
    "hhw_open[hhw_open['Incident Address'] == '3601 BROADWAY']"
   ]
  },
  {
   "cell_type": "markdown",
   "metadata": {},
   "source": []
  },
  {
   "cell_type": "markdown",
   "metadata": {},
   "source": [
    "### * another dataset *"
   ]
  },
  {
   "cell_type": "code",
   "execution_count": 29,
   "metadata": {},
   "outputs": [
    {
     "output_type": "execute_result",
     "data": {
      "text/plain": "   unique_key             created_date closed_date agency  \\\n0    47259209  2020-08-17T02:02:06.000         NaN   NYPD   \n1    47260119  2020-08-17T02:01:34.000         NaN   NYPD   \n2    47262755  2020-08-17T02:01:30.000         NaN   NYPD   \n3    47260802  2020-08-17T02:00:45.000         NaN   NYPD   \n4    47264976  2020-08-17T02:00:11.000         NaN   NYPD   \n\n                       agency_name       complaint_type  \\\n0  New York City Police Department      Illegal Parking   \n1  New York City Police Department         Noise - Park   \n2  New York City Police Department      Illegal Parking   \n3  New York City Police Department         Noise - Park   \n4  New York City Police Department  Noise - Residential   \n\n                     descriptor               location_type  incident_zip  \\\n0  Commercial Overnight Parking             Street/Sidewalk       11356.0   \n1              Loud Music/Party                         NaN       10039.0   \n2  Commercial Overnight Parking             Street/Sidewalk       11223.0   \n3                  Loud Talking             Park/Playground       11370.0   \n4              Loud Music/Party  Residential Building/House       11224.0   \n\n            incident_address         street_name    cross_street_1  \\\n0              120-10 9 ROAD              9 ROAD        120 STREET   \n1  159-38 HARLEM RIVER DRIVE  HARLEM RIVER DRIVE              BEND   \n2                45 AVENUE T            AVENUE T  WEST   13 STREET   \n3            84-11 30 AVENUE           30 AVENUE         84 STREET   \n4      2818 WEST   19 STREET    WEST   19 STREET    NEPTUNE AVENUE   \n\n                    cross_street_2 intersection_street_1  \\\n0                       121 STREET            120 STREET   \n1  HARLEM RIVER DRIVE EXIT   23 SB                  BEND   \n2                 WEST   12 STREET      WEST   13 STREET   \n3                        85 STREET             84 STREET   \n4                   MERMAID AVENUE        NEPTUNE AVENUE   \n\n             intersection_street_2 address_type           city  \\\n0                       121 STREET          NaN  COLLEGE POINT   \n1  HARLEM RIVER DRIVE EXIT   23 SB          NaN       NEW YORK   \n2                 WEST   12 STREET          NaN       BROOKLYN   \n3                        85 STREET          NaN  EAST ELMHURST   \n4                   MERMAID AVENUE          NaN       BROOKLYN   \n\n                          landmark  facility_type       status  due_date  \\\n0                           9 ROAD            NaN  In Progress       NaN   \n1  HARLEM RIVER DRIVE SERVICE RD W            NaN  In Progress       NaN   \n2                         AVENUE T            NaN  In Progress       NaN   \n3                        30 AVENUE            NaN  In Progress       NaN   \n4                 WEST   19 STREET            NaN  In Progress       NaN   \n\n  resolution_description resolution_action_updated_date community_board  \\\n0                    NaN                            NaN       07 QUEENS   \n1                    NaN                            NaN    10 MANHATTAN   \n2                    NaN                            NaN     11 BROOKLYN   \n3                    NaN                            NaN       03 QUEENS   \n4                    NaN                            NaN     13 BROOKLYN   \n\n            bbl    borough  x_coordinate_state_plane  \\\n0  4.040280e+09     QUEENS                 1026473.0   \n1  1.021060e+09  MANHATTAN                 1002111.0   \n2  3.070760e+09   BROOKLYN                  988758.0   \n3  4.013580e+09     QUEENS                 1016293.0   \n4  3.070190e+09   BROOKLYN                  988121.0   \n\n   y_coordinate_state_plane open_data_channel_type park_facility_name  \\\n0                  226666.0                 ONLINE        Unspecified   \n1                  242901.0                  PHONE        Unspecified   \n2                  157191.0                 MOBILE        Unspecified   \n3                  216712.0                 ONLINE  Gorman Playground   \n4                  149740.0                 MOBILE        Unspecified   \n\n  park_borough  vehicle_type  taxi_company_borough  taxi_pick_up_location  \\\n0       QUEENS           NaN                   NaN                    NaN   \n1    MANHATTAN           NaN                   NaN                    NaN   \n2     BROOKLYN           NaN                   NaN                    NaN   \n3       QUEENS           NaN                   NaN                    NaN   \n4     BROOKLYN           NaN                   NaN                    NaN   \n\n   bridge_highway_name  bridge_highway_direction  road_ramp  \\\n0                  NaN                       NaN        NaN   \n1                  NaN                       NaN        NaN   \n2                  NaN                       NaN        NaN   \n3                  NaN                       NaN        NaN   \n4                  NaN                       NaN        NaN   \n\n   bridge_highway_segment   latitude  longitude  \\\n0                     NaN  40.788721 -73.847522   \n1                     NaN  40.833364 -73.935456   \n2                     NaN  40.598128 -73.983767   \n3                     NaN  40.761443 -73.884332   \n4                     NaN  40.577677 -73.986065   \n\n                                          location  \n0  \\n,  \\n(40.788721086728216, -73.84752178129025)  \n1   \\n,  \\n(40.83336445148282, -73.93545603755923)  \n2   \\n,  \\n(40.59812809299748, -73.98376691912246)  \n3   \\n,  \\n(40.76144276705305, -73.88433182126218)  \n4   \\n,  \\n(40.57767688545706, -73.98606499222338)  ",
      "text/html": "<div>\n<style scoped>\n    .dataframe tbody tr th:only-of-type {\n        vertical-align: middle;\n    }\n\n    .dataframe tbody tr th {\n        vertical-align: top;\n    }\n\n    .dataframe thead th {\n        text-align: right;\n    }\n</style>\n<table border=\"1\" class=\"dataframe\">\n  <thead>\n    <tr style=\"text-align: right;\">\n      <th></th>\n      <th>unique_key</th>\n      <th>created_date</th>\n      <th>closed_date</th>\n      <th>agency</th>\n      <th>agency_name</th>\n      <th>complaint_type</th>\n      <th>descriptor</th>\n      <th>location_type</th>\n      <th>incident_zip</th>\n      <th>incident_address</th>\n      <th>street_name</th>\n      <th>cross_street_1</th>\n      <th>cross_street_2</th>\n      <th>intersection_street_1</th>\n      <th>intersection_street_2</th>\n      <th>address_type</th>\n      <th>city</th>\n      <th>landmark</th>\n      <th>facility_type</th>\n      <th>status</th>\n      <th>due_date</th>\n      <th>resolution_description</th>\n      <th>resolution_action_updated_date</th>\n      <th>community_board</th>\n      <th>bbl</th>\n      <th>borough</th>\n      <th>x_coordinate_state_plane</th>\n      <th>y_coordinate_state_plane</th>\n      <th>open_data_channel_type</th>\n      <th>park_facility_name</th>\n      <th>park_borough</th>\n      <th>vehicle_type</th>\n      <th>taxi_company_borough</th>\n      <th>taxi_pick_up_location</th>\n      <th>bridge_highway_name</th>\n      <th>bridge_highway_direction</th>\n      <th>road_ramp</th>\n      <th>bridge_highway_segment</th>\n      <th>latitude</th>\n      <th>longitude</th>\n      <th>location</th>\n    </tr>\n  </thead>\n  <tbody>\n    <tr>\n      <th>0</th>\n      <td>47259209</td>\n      <td>2020-08-17T02:02:06.000</td>\n      <td>NaN</td>\n      <td>NYPD</td>\n      <td>New York City Police Department</td>\n      <td>Illegal Parking</td>\n      <td>Commercial Overnight Parking</td>\n      <td>Street/Sidewalk</td>\n      <td>11356.0</td>\n      <td>120-10 9 ROAD</td>\n      <td>9 ROAD</td>\n      <td>120 STREET</td>\n      <td>121 STREET</td>\n      <td>120 STREET</td>\n      <td>121 STREET</td>\n      <td>NaN</td>\n      <td>COLLEGE POINT</td>\n      <td>9 ROAD</td>\n      <td>NaN</td>\n      <td>In Progress</td>\n      <td>NaN</td>\n      <td>NaN</td>\n      <td>NaN</td>\n      <td>07 QUEENS</td>\n      <td>4.040280e+09</td>\n      <td>QUEENS</td>\n      <td>1026473.0</td>\n      <td>226666.0</td>\n      <td>ONLINE</td>\n      <td>Unspecified</td>\n      <td>QUEENS</td>\n      <td>NaN</td>\n      <td>NaN</td>\n      <td>NaN</td>\n      <td>NaN</td>\n      <td>NaN</td>\n      <td>NaN</td>\n      <td>NaN</td>\n      <td>40.788721</td>\n      <td>-73.847522</td>\n      <td>\\n,  \\n(40.788721086728216, -73.84752178129025)</td>\n    </tr>\n    <tr>\n      <th>1</th>\n      <td>47260119</td>\n      <td>2020-08-17T02:01:34.000</td>\n      <td>NaN</td>\n      <td>NYPD</td>\n      <td>New York City Police Department</td>\n      <td>Noise - Park</td>\n      <td>Loud Music/Party</td>\n      <td>NaN</td>\n      <td>10039.0</td>\n      <td>159-38 HARLEM RIVER DRIVE</td>\n      <td>HARLEM RIVER DRIVE</td>\n      <td>BEND</td>\n      <td>HARLEM RIVER DRIVE EXIT   23 SB</td>\n      <td>BEND</td>\n      <td>HARLEM RIVER DRIVE EXIT   23 SB</td>\n      <td>NaN</td>\n      <td>NEW YORK</td>\n      <td>HARLEM RIVER DRIVE SERVICE RD W</td>\n      <td>NaN</td>\n      <td>In Progress</td>\n      <td>NaN</td>\n      <td>NaN</td>\n      <td>NaN</td>\n      <td>10 MANHATTAN</td>\n      <td>1.021060e+09</td>\n      <td>MANHATTAN</td>\n      <td>1002111.0</td>\n      <td>242901.0</td>\n      <td>PHONE</td>\n      <td>Unspecified</td>\n      <td>MANHATTAN</td>\n      <td>NaN</td>\n      <td>NaN</td>\n      <td>NaN</td>\n      <td>NaN</td>\n      <td>NaN</td>\n      <td>NaN</td>\n      <td>NaN</td>\n      <td>40.833364</td>\n      <td>-73.935456</td>\n      <td>\\n,  \\n(40.83336445148282, -73.93545603755923)</td>\n    </tr>\n    <tr>\n      <th>2</th>\n      <td>47262755</td>\n      <td>2020-08-17T02:01:30.000</td>\n      <td>NaN</td>\n      <td>NYPD</td>\n      <td>New York City Police Department</td>\n      <td>Illegal Parking</td>\n      <td>Commercial Overnight Parking</td>\n      <td>Street/Sidewalk</td>\n      <td>11223.0</td>\n      <td>45 AVENUE T</td>\n      <td>AVENUE T</td>\n      <td>WEST   13 STREET</td>\n      <td>WEST   12 STREET</td>\n      <td>WEST   13 STREET</td>\n      <td>WEST   12 STREET</td>\n      <td>NaN</td>\n      <td>BROOKLYN</td>\n      <td>AVENUE T</td>\n      <td>NaN</td>\n      <td>In Progress</td>\n      <td>NaN</td>\n      <td>NaN</td>\n      <td>NaN</td>\n      <td>11 BROOKLYN</td>\n      <td>3.070760e+09</td>\n      <td>BROOKLYN</td>\n      <td>988758.0</td>\n      <td>157191.0</td>\n      <td>MOBILE</td>\n      <td>Unspecified</td>\n      <td>BROOKLYN</td>\n      <td>NaN</td>\n      <td>NaN</td>\n      <td>NaN</td>\n      <td>NaN</td>\n      <td>NaN</td>\n      <td>NaN</td>\n      <td>NaN</td>\n      <td>40.598128</td>\n      <td>-73.983767</td>\n      <td>\\n,  \\n(40.59812809299748, -73.98376691912246)</td>\n    </tr>\n    <tr>\n      <th>3</th>\n      <td>47260802</td>\n      <td>2020-08-17T02:00:45.000</td>\n      <td>NaN</td>\n      <td>NYPD</td>\n      <td>New York City Police Department</td>\n      <td>Noise - Park</td>\n      <td>Loud Talking</td>\n      <td>Park/Playground</td>\n      <td>11370.0</td>\n      <td>84-11 30 AVENUE</td>\n      <td>30 AVENUE</td>\n      <td>84 STREET</td>\n      <td>85 STREET</td>\n      <td>84 STREET</td>\n      <td>85 STREET</td>\n      <td>NaN</td>\n      <td>EAST ELMHURST</td>\n      <td>30 AVENUE</td>\n      <td>NaN</td>\n      <td>In Progress</td>\n      <td>NaN</td>\n      <td>NaN</td>\n      <td>NaN</td>\n      <td>03 QUEENS</td>\n      <td>4.013580e+09</td>\n      <td>QUEENS</td>\n      <td>1016293.0</td>\n      <td>216712.0</td>\n      <td>ONLINE</td>\n      <td>Gorman Playground</td>\n      <td>QUEENS</td>\n      <td>NaN</td>\n      <td>NaN</td>\n      <td>NaN</td>\n      <td>NaN</td>\n      <td>NaN</td>\n      <td>NaN</td>\n      <td>NaN</td>\n      <td>40.761443</td>\n      <td>-73.884332</td>\n      <td>\\n,  \\n(40.76144276705305, -73.88433182126218)</td>\n    </tr>\n    <tr>\n      <th>4</th>\n      <td>47264976</td>\n      <td>2020-08-17T02:00:11.000</td>\n      <td>NaN</td>\n      <td>NYPD</td>\n      <td>New York City Police Department</td>\n      <td>Noise - Residential</td>\n      <td>Loud Music/Party</td>\n      <td>Residential Building/House</td>\n      <td>11224.0</td>\n      <td>2818 WEST   19 STREET</td>\n      <td>WEST   19 STREET</td>\n      <td>NEPTUNE AVENUE</td>\n      <td>MERMAID AVENUE</td>\n      <td>NEPTUNE AVENUE</td>\n      <td>MERMAID AVENUE</td>\n      <td>NaN</td>\n      <td>BROOKLYN</td>\n      <td>WEST   19 STREET</td>\n      <td>NaN</td>\n      <td>In Progress</td>\n      <td>NaN</td>\n      <td>NaN</td>\n      <td>NaN</td>\n      <td>13 BROOKLYN</td>\n      <td>3.070190e+09</td>\n      <td>BROOKLYN</td>\n      <td>988121.0</td>\n      <td>149740.0</td>\n      <td>MOBILE</td>\n      <td>Unspecified</td>\n      <td>BROOKLYN</td>\n      <td>NaN</td>\n      <td>NaN</td>\n      <td>NaN</td>\n      <td>NaN</td>\n      <td>NaN</td>\n      <td>NaN</td>\n      <td>NaN</td>\n      <td>40.577677</td>\n      <td>-73.986065</td>\n      <td>\\n,  \\n(40.57767688545706, -73.98606499222338)</td>\n    </tr>\n  </tbody>\n</table>\n</div>"
     },
     "metadata": {},
     "execution_count": 29
    }
   ],
   "source": [
    "url = 'https://data.cityofnewyork.us/resource/erm2-nwe9.csv'\n",
    "\n",
    "data = pd.read_csv(url, header=0, parse_dates=True)\n",
    "pd.set_option('max_columns', None)\n",
    "data.head()"
   ]
  },
  {
   "cell_type": "code",
   "execution_count": 30,
   "metadata": {},
   "outputs": [
    {
     "output_type": "execute_result",
     "data": {
      "text/plain": "Index(['unique_key', 'created_date', 'closed_date', 'agency', 'agency_name',\n       'complaint_type', 'descriptor', 'location_type', 'incident_zip',\n       'incident_address', 'street_name', 'cross_street_1', 'cross_street_2',\n       'intersection_street_1', 'intersection_street_2', 'address_type',\n       'city', 'landmark', 'facility_type', 'status', 'due_date',\n       'resolution_description', 'resolution_action_updated_date',\n       'community_board', 'bbl', 'borough', 'x_coordinate_state_plane',\n       'y_coordinate_state_plane', 'open_data_channel_type',\n       'park_facility_name', 'park_borough', 'vehicle_type',\n       'taxi_company_borough', 'taxi_pick_up_location', 'bridge_highway_name',\n       'bridge_highway_direction', 'road_ramp', 'bridge_highway_segment',\n       'latitude', 'longitude', 'location'],\n      dtype='object')"
     },
     "metadata": {},
     "execution_count": 30
    }
   ],
   "source": [
    "data.columns"
   ]
  },
  {
   "cell_type": "code",
   "execution_count": 31,
   "metadata": {},
   "outputs": [
    {
     "output_type": "execute_result",
     "data": {
      "text/plain": "                created_date              closed_date agency  \\\n0    2020-08-17T02:02:06.000                      NaN   NYPD   \n1    2020-08-17T02:01:34.000                      NaN   NYPD   \n2    2020-08-17T02:01:30.000                      NaN   NYPD   \n3    2020-08-17T02:00:45.000                      NaN   NYPD   \n4    2020-08-17T02:00:11.000                      NaN   NYPD   \n..                       ...                      ...    ...   \n995  2020-08-16T22:47:03.000  2020-08-16T23:04:06.000   NYPD   \n996  2020-08-16T22:46:48.000  2020-08-16T23:23:44.000   NYPD   \n997  2020-08-16T22:46:41.000  2020-08-16T22:48:07.000    DPR   \n998  2020-08-16T22:46:16.000  2020-08-16T22:56:10.000   NYPD   \n999  2020-08-16T22:46:10.000  2020-08-16T23:12:23.000   NYPD   \n\n                            agency_name           complaint_type  \\\n0       New York City Police Department          Illegal Parking   \n1       New York City Police Department             Noise - Park   \n2       New York City Police Department          Illegal Parking   \n3       New York City Police Department             Noise - Park   \n4       New York City Police Department      Noise - Residential   \n..                                  ...                      ...   \n995     New York City Police Department      Noise - Residential   \n996     New York City Police Department          Noise - Vehicle   \n997  Department of Parks and Recreation  Violation of Park Rules   \n998     New York City Police Department      Noise - Residential   \n999     New York City Police Department  Noise - Street/Sidewalk   \n\n                       descriptor               location_type  incident_zip  \\\n0    Commercial Overnight Parking             Street/Sidewalk       11356.0   \n1                Loud Music/Party                         NaN       10039.0   \n2    Commercial Overnight Parking             Street/Sidewalk       11223.0   \n3                    Loud Talking             Park/Playground       11370.0   \n4                Loud Music/Party  Residential Building/House       11224.0   \n..                            ...                         ...           ...   \n995              Loud Music/Party  Residential Building/House       10075.0   \n996               Car/Truck Music             Street/Sidewalk       10457.0   \n997             Social Distancing             Street/Curbside       11212.0   \n998              Banging/Pounding  Residential Building/House       11355.0   \n999              Loud Music/Party                         NaN       10034.0   \n\n              incident_address address_type           city       status  \\\n0                120-10 9 ROAD          NaN  COLLEGE POINT  In Progress   \n1    159-38 HARLEM RIVER DRIVE          NaN       NEW YORK  In Progress   \n2                  45 AVENUE T          NaN       BROOKLYN  In Progress   \n3              84-11 30 AVENUE          NaN  EAST ELMHURST  In Progress   \n4        2818 WEST   19 STREET          NaN       BROOKLYN  In Progress   \n..                         ...          ...            ...          ...   \n995       350 EAST   77 STREET          NaN       NEW YORK       Closed   \n996          1755 WEEKS AVENUE          NaN          BRONX       Closed   \n997          624 HOWARD AVENUE          NaN       BROOKLYN       Closed   \n998    43-44 KISSENA BOULEVARD          NaN       FLUSHING       Closed   \n999              COOPER STREET          NaN            NaN       Closed   \n\n                                resolution_description    borough  \\\n0                                                  NaN     QUEENS   \n1                                                  NaN  MANHATTAN   \n2                                                  NaN   BROOKLYN   \n3                                                  NaN     QUEENS   \n4                                                  NaN   BROOKLYN   \n..                                                 ...        ...   \n995  The Police Department responded to the complai...  MANHATTAN   \n996  The Police Department responded to the complai...      BRONX   \n997  No action was taken because the Department of ...   BROOKLYN   \n998  The Police Department responded to the complai...     QUEENS   \n999  The Police Department responded to the complai...  MANHATTAN   \n\n    park_facility_name   latitude  longitude  \n0          Unspecified  40.788721 -73.847522  \n1          Unspecified  40.833364 -73.935456  \n2          Unspecified  40.598128 -73.983767  \n3    Gorman Playground  40.761443 -73.884332  \n4          Unspecified  40.577677 -73.986065  \n..                 ...        ...        ...  \n995        Unspecified  40.771508 -73.954820  \n996        Unspecified  40.845568 -73.907505  \n997        Unspecified  40.666721 -73.919663  \n998        Unspecified  40.754562 -73.823626  \n999        Unspecified  40.868496 -73.921726  \n\n[1000 rows x 17 columns]",
      "text/html": "<div>\n<style scoped>\n    .dataframe tbody tr th:only-of-type {\n        vertical-align: middle;\n    }\n\n    .dataframe tbody tr th {\n        vertical-align: top;\n    }\n\n    .dataframe thead th {\n        text-align: right;\n    }\n</style>\n<table border=\"1\" class=\"dataframe\">\n  <thead>\n    <tr style=\"text-align: right;\">\n      <th></th>\n      <th>created_date</th>\n      <th>closed_date</th>\n      <th>agency</th>\n      <th>agency_name</th>\n      <th>complaint_type</th>\n      <th>descriptor</th>\n      <th>location_type</th>\n      <th>incident_zip</th>\n      <th>incident_address</th>\n      <th>address_type</th>\n      <th>city</th>\n      <th>status</th>\n      <th>resolution_description</th>\n      <th>borough</th>\n      <th>park_facility_name</th>\n      <th>latitude</th>\n      <th>longitude</th>\n    </tr>\n  </thead>\n  <tbody>\n    <tr>\n      <th>0</th>\n      <td>2020-08-17T02:02:06.000</td>\n      <td>NaN</td>\n      <td>NYPD</td>\n      <td>New York City Police Department</td>\n      <td>Illegal Parking</td>\n      <td>Commercial Overnight Parking</td>\n      <td>Street/Sidewalk</td>\n      <td>11356.0</td>\n      <td>120-10 9 ROAD</td>\n      <td>NaN</td>\n      <td>COLLEGE POINT</td>\n      <td>In Progress</td>\n      <td>NaN</td>\n      <td>QUEENS</td>\n      <td>Unspecified</td>\n      <td>40.788721</td>\n      <td>-73.847522</td>\n    </tr>\n    <tr>\n      <th>1</th>\n      <td>2020-08-17T02:01:34.000</td>\n      <td>NaN</td>\n      <td>NYPD</td>\n      <td>New York City Police Department</td>\n      <td>Noise - Park</td>\n      <td>Loud Music/Party</td>\n      <td>NaN</td>\n      <td>10039.0</td>\n      <td>159-38 HARLEM RIVER DRIVE</td>\n      <td>NaN</td>\n      <td>NEW YORK</td>\n      <td>In Progress</td>\n      <td>NaN</td>\n      <td>MANHATTAN</td>\n      <td>Unspecified</td>\n      <td>40.833364</td>\n      <td>-73.935456</td>\n    </tr>\n    <tr>\n      <th>2</th>\n      <td>2020-08-17T02:01:30.000</td>\n      <td>NaN</td>\n      <td>NYPD</td>\n      <td>New York City Police Department</td>\n      <td>Illegal Parking</td>\n      <td>Commercial Overnight Parking</td>\n      <td>Street/Sidewalk</td>\n      <td>11223.0</td>\n      <td>45 AVENUE T</td>\n      <td>NaN</td>\n      <td>BROOKLYN</td>\n      <td>In Progress</td>\n      <td>NaN</td>\n      <td>BROOKLYN</td>\n      <td>Unspecified</td>\n      <td>40.598128</td>\n      <td>-73.983767</td>\n    </tr>\n    <tr>\n      <th>3</th>\n      <td>2020-08-17T02:00:45.000</td>\n      <td>NaN</td>\n      <td>NYPD</td>\n      <td>New York City Police Department</td>\n      <td>Noise - Park</td>\n      <td>Loud Talking</td>\n      <td>Park/Playground</td>\n      <td>11370.0</td>\n      <td>84-11 30 AVENUE</td>\n      <td>NaN</td>\n      <td>EAST ELMHURST</td>\n      <td>In Progress</td>\n      <td>NaN</td>\n      <td>QUEENS</td>\n      <td>Gorman Playground</td>\n      <td>40.761443</td>\n      <td>-73.884332</td>\n    </tr>\n    <tr>\n      <th>4</th>\n      <td>2020-08-17T02:00:11.000</td>\n      <td>NaN</td>\n      <td>NYPD</td>\n      <td>New York City Police Department</td>\n      <td>Noise - Residential</td>\n      <td>Loud Music/Party</td>\n      <td>Residential Building/House</td>\n      <td>11224.0</td>\n      <td>2818 WEST   19 STREET</td>\n      <td>NaN</td>\n      <td>BROOKLYN</td>\n      <td>In Progress</td>\n      <td>NaN</td>\n      <td>BROOKLYN</td>\n      <td>Unspecified</td>\n      <td>40.577677</td>\n      <td>-73.986065</td>\n    </tr>\n    <tr>\n      <th>...</th>\n      <td>...</td>\n      <td>...</td>\n      <td>...</td>\n      <td>...</td>\n      <td>...</td>\n      <td>...</td>\n      <td>...</td>\n      <td>...</td>\n      <td>...</td>\n      <td>...</td>\n      <td>...</td>\n      <td>...</td>\n      <td>...</td>\n      <td>...</td>\n      <td>...</td>\n      <td>...</td>\n      <td>...</td>\n    </tr>\n    <tr>\n      <th>995</th>\n      <td>2020-08-16T22:47:03.000</td>\n      <td>2020-08-16T23:04:06.000</td>\n      <td>NYPD</td>\n      <td>New York City Police Department</td>\n      <td>Noise - Residential</td>\n      <td>Loud Music/Party</td>\n      <td>Residential Building/House</td>\n      <td>10075.0</td>\n      <td>350 EAST   77 STREET</td>\n      <td>NaN</td>\n      <td>NEW YORK</td>\n      <td>Closed</td>\n      <td>The Police Department responded to the complai...</td>\n      <td>MANHATTAN</td>\n      <td>Unspecified</td>\n      <td>40.771508</td>\n      <td>-73.954820</td>\n    </tr>\n    <tr>\n      <th>996</th>\n      <td>2020-08-16T22:46:48.000</td>\n      <td>2020-08-16T23:23:44.000</td>\n      <td>NYPD</td>\n      <td>New York City Police Department</td>\n      <td>Noise - Vehicle</td>\n      <td>Car/Truck Music</td>\n      <td>Street/Sidewalk</td>\n      <td>10457.0</td>\n      <td>1755 WEEKS AVENUE</td>\n      <td>NaN</td>\n      <td>BRONX</td>\n      <td>Closed</td>\n      <td>The Police Department responded to the complai...</td>\n      <td>BRONX</td>\n      <td>Unspecified</td>\n      <td>40.845568</td>\n      <td>-73.907505</td>\n    </tr>\n    <tr>\n      <th>997</th>\n      <td>2020-08-16T22:46:41.000</td>\n      <td>2020-08-16T22:48:07.000</td>\n      <td>DPR</td>\n      <td>Department of Parks and Recreation</td>\n      <td>Violation of Park Rules</td>\n      <td>Social Distancing</td>\n      <td>Street/Curbside</td>\n      <td>11212.0</td>\n      <td>624 HOWARD AVENUE</td>\n      <td>NaN</td>\n      <td>BROOKLYN</td>\n      <td>Closed</td>\n      <td>No action was taken because the Department of ...</td>\n      <td>BROOKLYN</td>\n      <td>Unspecified</td>\n      <td>40.666721</td>\n      <td>-73.919663</td>\n    </tr>\n    <tr>\n      <th>998</th>\n      <td>2020-08-16T22:46:16.000</td>\n      <td>2020-08-16T22:56:10.000</td>\n      <td>NYPD</td>\n      <td>New York City Police Department</td>\n      <td>Noise - Residential</td>\n      <td>Banging/Pounding</td>\n      <td>Residential Building/House</td>\n      <td>11355.0</td>\n      <td>43-44 KISSENA BOULEVARD</td>\n      <td>NaN</td>\n      <td>FLUSHING</td>\n      <td>Closed</td>\n      <td>The Police Department responded to the complai...</td>\n      <td>QUEENS</td>\n      <td>Unspecified</td>\n      <td>40.754562</td>\n      <td>-73.823626</td>\n    </tr>\n    <tr>\n      <th>999</th>\n      <td>2020-08-16T22:46:10.000</td>\n      <td>2020-08-16T23:12:23.000</td>\n      <td>NYPD</td>\n      <td>New York City Police Department</td>\n      <td>Noise - Street/Sidewalk</td>\n      <td>Loud Music/Party</td>\n      <td>NaN</td>\n      <td>10034.0</td>\n      <td>COOPER STREET</td>\n      <td>NaN</td>\n      <td>NaN</td>\n      <td>Closed</td>\n      <td>The Police Department responded to the complai...</td>\n      <td>MANHATTAN</td>\n      <td>Unspecified</td>\n      <td>40.868496</td>\n      <td>-73.921726</td>\n    </tr>\n  </tbody>\n</table>\n<p>1000 rows × 17 columns</p>\n</div>"
     },
     "metadata": {},
     "execution_count": 31
    }
   ],
   "source": [
    "data = data[['created_date', 'closed_date', 'agency', 'agency_name', 'complaint_type', 'descriptor', 'location_type', 'incident_zip', \n",
    "      'incident_address', 'address_type','city', 'status', 'resolution_description', 'borough', 'park_facility_name', 'latitude', \n",
    "      'longitude']]\n",
    "data"
   ]
  },
  {
   "cell_type": "code",
   "execution_count": 32,
   "metadata": {},
   "outputs": [],
   "source": [
    "data['agency'] = data['agency'].str.lower()\n",
    "data['agency_name'] = data['agency_name'].str.lower()\n",
    "data['complaint_type'] = data['complaint_type'].str.lower()\n",
    "data['descriptor'] = data['descriptor'].str.lower()\n",
    "data['location_type'] = data['location_type'].str.lower()\n",
    "data['incident_address'] = data['incident_address'].str.lower()\n",
    "data['city'] = data['city'].str.lower()\n",
    "data['status'] = data['status'].str.lower()\n",
    "data['resolution_description'] = data['resolution_description'].str.lower()\n",
    "data['borough'] = data['borough'].str.lower()\n",
    "data['park_facility_name'] = data['park_facility_name'].str.lower()\n"
   ]
  },
  {
   "cell_type": "markdown",
   "metadata": {},
   "source": []
  },
  {
   "cell_type": "code",
   "execution_count": null,
   "metadata": {},
   "outputs": [],
   "source": []
  }
 ],
 "metadata": {
  "kernelspec": {
   "display_name": "Python 3.7.6 64-bit ('base': conda)",
   "language": "python",
   "name": "python37664bitbaseconda3b4eb8662406457b83730c4152cf9fec"
  },
  "language_info": {
   "codemirror_mode": {
    "name": "ipython",
    "version": 3
   },
   "file_extension": ".py",
   "mimetype": "text/x-python",
   "name": "python",
   "nbconvert_exporter": "python",
   "pygments_lexer": "ipython3",
   "version": "3.7.6-final"
  }
 },
 "nbformat": 4,
 "nbformat_minor": 1
}